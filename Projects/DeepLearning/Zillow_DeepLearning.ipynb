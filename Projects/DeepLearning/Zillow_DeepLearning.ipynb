{
 "cells": [
  {
   "cell_type": "markdown",
   "id": "567f74dc",
   "metadata": {},
   "source": [
    "# Deep Learning Project\n",
    "Your task is to create a new notebook modeled after this one, where:\n",
    "- You've put all of your cleaning and prepration steps into a functions you load and use in a module.\n",
    "- You create and train a simple appropriate model for your task.\n",
    "- You assess the performance using the appropriate metric for your task.\n",
    "- Compare the performance with your previous best non Deep Neural Network model. This probably will mean you copy and paste your training from your other notebook into this notebook."
   ]
  },
  {
   "cell_type": "markdown",
   "id": "23d37df6",
   "metadata": {},
   "source": [
    "# Standard Project Loading"
   ]
  },
  {
   "cell_type": "code",
   "execution_count": 1,
   "id": "e20747fd",
   "metadata": {},
   "outputs": [],
   "source": [
    "from process import * # module that contains data preprocessing and cleaning (includes libraries)\n",
    "from datetime import datetime\n",
    "import numpy as np\n",
    "import pandas as pd\n",
    "import pylab\n",
    "import calendar\n",
    "from scipy import stats\n",
    "import seaborn as sns\n",
    "from sklearn import model_selection, preprocessing\n",
    "from scipy.stats import kendalltau\n",
    "import warnings\n",
    "import matplotlib.pyplot as plt\n",
    "import pandas\n",
    "from sklearn.preprocessing import LabelEncoder\n",
    "\n",
    "import warnings\n",
    "warnings.filterwarnings(\"ignore\")"
   ]
  },
  {
   "cell_type": "code",
   "execution_count": 2,
   "id": "35ea83e7",
   "metadata": {},
   "outputs": [],
   "source": [
    "train = pd.read_csv('/mnt/c/users/efazh/DataProblems/Datasets/Tabular/Zillow/train_2016_v2.csv',parse_dates=[\"transactiondate\"] )\n",
    "props = pd.read_csv('/mnt/c/users/efazh/DataProblems/Datasets/Tabular/Zillow/property_2016.csv')\n",
    "sample = pd.read_csv('/mnt/c/users/efazh/DataProblems/Datasets/Tabular/Zillow/sample_submission.csv')\n",
    "\n",
    "for c in props.columns:\n",
    "    props[c]=props[c].fillna(-1)\n",
    "    if props[c].dtype == 'object':\n",
    "        lbl = LabelEncoder()\n",
    "        lbl.fit(list(props[c].values))\n",
    "        props[c] = lbl.transform(list(props[c].values))"
   ]
  },
  {
   "cell_type": "code",
   "execution_count": 3,
   "id": "baf6adcb",
   "metadata": {},
   "outputs": [
    {
     "data": {
      "text/html": [
       "<div>\n",
       "<style scoped>\n",
       "    .dataframe tbody tr th:only-of-type {\n",
       "        vertical-align: middle;\n",
       "    }\n",
       "\n",
       "    .dataframe tbody tr th {\n",
       "        vertical-align: top;\n",
       "    }\n",
       "\n",
       "    .dataframe thead th {\n",
       "        text-align: right;\n",
       "    }\n",
       "</style>\n",
       "<table border=\"1\" class=\"dataframe\">\n",
       "  <thead>\n",
       "    <tr style=\"text-align: right;\">\n",
       "      <th></th>\n",
       "      <th>parcelid</th>\n",
       "      <th>logerror</th>\n",
       "      <th>transactiondate</th>\n",
       "      <th>airconditioningtypeid</th>\n",
       "      <th>architecturalstyletypeid</th>\n",
       "      <th>basementsqft</th>\n",
       "      <th>bathroomcnt</th>\n",
       "      <th>bedroomcnt</th>\n",
       "      <th>buildingclasstypeid</th>\n",
       "      <th>buildingqualitytypeid</th>\n",
       "      <th>...</th>\n",
       "      <th>numberofstories</th>\n",
       "      <th>fireplaceflag</th>\n",
       "      <th>structuretaxvaluedollarcnt</th>\n",
       "      <th>taxvaluedollarcnt</th>\n",
       "      <th>assessmentyear</th>\n",
       "      <th>landtaxvaluedollarcnt</th>\n",
       "      <th>taxamount</th>\n",
       "      <th>taxdelinquencyflag</th>\n",
       "      <th>taxdelinquencyyear</th>\n",
       "      <th>censustractandblock</th>\n",
       "    </tr>\n",
       "  </thead>\n",
       "  <tbody>\n",
       "    <tr>\n",
       "      <th>0</th>\n",
       "      <td>11016594</td>\n",
       "      <td>0.0276</td>\n",
       "      <td>2016-01-01</td>\n",
       "      <td>NaN</td>\n",
       "      <td>NaN</td>\n",
       "      <td>NaN</td>\n",
       "      <td>NaN</td>\n",
       "      <td>NaN</td>\n",
       "      <td>NaN</td>\n",
       "      <td>NaN</td>\n",
       "      <td>...</td>\n",
       "      <td>NaN</td>\n",
       "      <td>NaN</td>\n",
       "      <td>NaN</td>\n",
       "      <td>NaN</td>\n",
       "      <td>NaN</td>\n",
       "      <td>NaN</td>\n",
       "      <td>NaN</td>\n",
       "      <td>NaN</td>\n",
       "      <td>NaN</td>\n",
       "      <td>NaN</td>\n",
       "    </tr>\n",
       "    <tr>\n",
       "      <th>1</th>\n",
       "      <td>14366692</td>\n",
       "      <td>-0.1684</td>\n",
       "      <td>2016-01-01</td>\n",
       "      <td>NaN</td>\n",
       "      <td>NaN</td>\n",
       "      <td>NaN</td>\n",
       "      <td>NaN</td>\n",
       "      <td>NaN</td>\n",
       "      <td>NaN</td>\n",
       "      <td>NaN</td>\n",
       "      <td>...</td>\n",
       "      <td>NaN</td>\n",
       "      <td>NaN</td>\n",
       "      <td>NaN</td>\n",
       "      <td>NaN</td>\n",
       "      <td>NaN</td>\n",
       "      <td>NaN</td>\n",
       "      <td>NaN</td>\n",
       "      <td>NaN</td>\n",
       "      <td>NaN</td>\n",
       "      <td>NaN</td>\n",
       "    </tr>\n",
       "    <tr>\n",
       "      <th>2</th>\n",
       "      <td>12098116</td>\n",
       "      <td>-0.0040</td>\n",
       "      <td>2016-01-01</td>\n",
       "      <td>NaN</td>\n",
       "      <td>NaN</td>\n",
       "      <td>NaN</td>\n",
       "      <td>NaN</td>\n",
       "      <td>NaN</td>\n",
       "      <td>NaN</td>\n",
       "      <td>NaN</td>\n",
       "      <td>...</td>\n",
       "      <td>NaN</td>\n",
       "      <td>NaN</td>\n",
       "      <td>NaN</td>\n",
       "      <td>NaN</td>\n",
       "      <td>NaN</td>\n",
       "      <td>NaN</td>\n",
       "      <td>NaN</td>\n",
       "      <td>NaN</td>\n",
       "      <td>NaN</td>\n",
       "      <td>NaN</td>\n",
       "    </tr>\n",
       "    <tr>\n",
       "      <th>3</th>\n",
       "      <td>12643413</td>\n",
       "      <td>0.0218</td>\n",
       "      <td>2016-01-02</td>\n",
       "      <td>NaN</td>\n",
       "      <td>NaN</td>\n",
       "      <td>NaN</td>\n",
       "      <td>NaN</td>\n",
       "      <td>NaN</td>\n",
       "      <td>NaN</td>\n",
       "      <td>NaN</td>\n",
       "      <td>...</td>\n",
       "      <td>NaN</td>\n",
       "      <td>NaN</td>\n",
       "      <td>NaN</td>\n",
       "      <td>NaN</td>\n",
       "      <td>NaN</td>\n",
       "      <td>NaN</td>\n",
       "      <td>NaN</td>\n",
       "      <td>NaN</td>\n",
       "      <td>NaN</td>\n",
       "      <td>NaN</td>\n",
       "    </tr>\n",
       "    <tr>\n",
       "      <th>4</th>\n",
       "      <td>14432541</td>\n",
       "      <td>-0.0050</td>\n",
       "      <td>2016-01-02</td>\n",
       "      <td>NaN</td>\n",
       "      <td>NaN</td>\n",
       "      <td>NaN</td>\n",
       "      <td>NaN</td>\n",
       "      <td>NaN</td>\n",
       "      <td>NaN</td>\n",
       "      <td>NaN</td>\n",
       "      <td>...</td>\n",
       "      <td>NaN</td>\n",
       "      <td>NaN</td>\n",
       "      <td>NaN</td>\n",
       "      <td>NaN</td>\n",
       "      <td>NaN</td>\n",
       "      <td>NaN</td>\n",
       "      <td>NaN</td>\n",
       "      <td>NaN</td>\n",
       "      <td>NaN</td>\n",
       "      <td>NaN</td>\n",
       "    </tr>\n",
       "  </tbody>\n",
       "</table>\n",
       "<p>5 rows × 60 columns</p>\n",
       "</div>"
      ],
      "text/plain": [
       "   parcelid  logerror transactiondate  airconditioningtypeid  \\\n",
       "0  11016594    0.0276      2016-01-01                    NaN   \n",
       "1  14366692   -0.1684      2016-01-01                    NaN   \n",
       "2  12098116   -0.0040      2016-01-01                    NaN   \n",
       "3  12643413    0.0218      2016-01-02                    NaN   \n",
       "4  14432541   -0.0050      2016-01-02                    NaN   \n",
       "\n",
       "   architecturalstyletypeid  basementsqft  bathroomcnt  bedroomcnt  \\\n",
       "0                       NaN           NaN          NaN         NaN   \n",
       "1                       NaN           NaN          NaN         NaN   \n",
       "2                       NaN           NaN          NaN         NaN   \n",
       "3                       NaN           NaN          NaN         NaN   \n",
       "4                       NaN           NaN          NaN         NaN   \n",
       "\n",
       "   buildingclasstypeid  buildingqualitytypeid  ...  numberofstories  \\\n",
       "0                  NaN                    NaN  ...              NaN   \n",
       "1                  NaN                    NaN  ...              NaN   \n",
       "2                  NaN                    NaN  ...              NaN   \n",
       "3                  NaN                    NaN  ...              NaN   \n",
       "4                  NaN                    NaN  ...              NaN   \n",
       "\n",
       "   fireplaceflag  structuretaxvaluedollarcnt  taxvaluedollarcnt  \\\n",
       "0            NaN                         NaN                NaN   \n",
       "1            NaN                         NaN                NaN   \n",
       "2            NaN                         NaN                NaN   \n",
       "3            NaN                         NaN                NaN   \n",
       "4            NaN                         NaN                NaN   \n",
       "\n",
       "   assessmentyear  landtaxvaluedollarcnt  taxamount  taxdelinquencyflag  \\\n",
       "0             NaN                    NaN        NaN                 NaN   \n",
       "1             NaN                    NaN        NaN                 NaN   \n",
       "2             NaN                    NaN        NaN                 NaN   \n",
       "3             NaN                    NaN        NaN                 NaN   \n",
       "4             NaN                    NaN        NaN                 NaN   \n",
       "\n",
       "   taxdelinquencyyear  censustractandblock  \n",
       "0                 NaN                  NaN  \n",
       "1                 NaN                  NaN  \n",
       "2                 NaN                  NaN  \n",
       "3                 NaN                  NaN  \n",
       "4                 NaN                  NaN  \n",
       "\n",
       "[5 rows x 60 columns]"
      ]
     },
     "execution_count": 3,
     "metadata": {},
     "output_type": "execute_result"
    }
   ],
   "source": [
    "train_df = train.merge(props, how='left',on='parcelid')\n",
    "train_df.head(5)"
   ]
  },
  {
   "cell_type": "code",
   "execution_count": 4,
   "id": "2834f8f3",
   "metadata": {},
   "outputs": [],
   "source": [
    "train_df[\"transactiondate\"] = pd.to_datetime(train_df[\"transactiondate\"])\n",
    "train_df[\"transactiondate_year\"] = train_df[\"transactiondate\"].dt.year\n",
    "train_df[\"transactiondate_month\"] = train_df[\"transactiondate\"].dt.month\n",
    "train_df['transactiondate_quarter'] = train_df['transactiondate'].dt.quarter\n",
    "train_df[\"transactiondate\"] = train_df[\"transactiondate\"].dt.day"
   ]
  },
  {
   "cell_type": "code",
   "execution_count": 5,
   "id": "554f2dc0",
   "metadata": {},
   "outputs": [],
   "source": [
    "from scipy.stats import skew\n",
    "\n",
    "def impute_missing_values(column):\n",
    "    if train_df[column].dtype == 'object':\n",
    "        # Categorical data: Use mode\n",
    "        mode = train_df[column].mode()[0]\n",
    "        train_df[column].fillna(mode, inplace=True)\n",
    "    else:\n",
    "        # Numeric data: Decide between mean and median based on skewness\n",
    "        if skew(train_df[column].dropna()) > 1 or skew(train_df[column].dropna()) < -1:\n",
    "            # Highly skewed data: Use median\n",
    "            median = train_df[column].median()\n",
    "            train_df[column].fillna(median, inplace=True)\n",
    "        else:\n",
    "            # Normally distributed data: Use mean\n",
    "            mean = train_df[column].mean()\n",
    "            train_df[column].fillna(mean, inplace=True)"
   ]
  },
  {
   "cell_type": "code",
   "execution_count": 6,
   "id": "651cc37b",
   "metadata": {},
   "outputs": [],
   "source": [
    "for col in train_df.columns:\n",
    "    if train_df[col].isnull().sum() > 0:\n",
    "        impute_missing_values(col)"
   ]
  },
  {
   "cell_type": "code",
   "execution_count": 7,
   "id": "338bd02a",
   "metadata": {},
   "outputs": [],
   "source": [
    "x_train = train_df.drop(['parcelid', 'logerror', 'transactiondate', 'propertyzoningdesc', 'propertycountylandusecode','fireplacecnt', 'fireplaceflag'], axis=1)\n",
    "y_train = train_df[\"logerror\"]\n",
    "\n",
    "x_test = sample.merge(props,how='left',on='parcelid')"
   ]
  },
  {
   "cell_type": "code",
   "execution_count": 8,
   "id": "c8a89229",
   "metadata": {},
   "outputs": [
    {
     "name": "stdout",
     "output_type": "stream",
     "text": [
      "(90275, 56) (90275,)\n"
     ]
    }
   ],
   "source": [
    "y_mean = np.mean(y_train)\n",
    "print(x_train.shape, y_train.shape)\n",
    "train_columns = x_train.columns"
   ]
  },
  {
   "cell_type": "code",
   "execution_count": 9,
   "id": "47c6213d",
   "metadata": {},
   "outputs": [],
   "source": [
    "for c in x_train.dtypes[x_train.dtypes == object].index.values:\n",
    "    x_train[c] = (x_train[c] == True)"
   ]
  },
  {
   "cell_type": "markdown",
   "id": "a50d1ebe",
   "metadata": {},
   "source": [
    "# Keras Deep Learning"
   ]
  },
  {
   "cell_type": "code",
   "execution_count": 10,
   "id": "9a501768",
   "metadata": {},
   "outputs": [
    {
     "name": "stderr",
     "output_type": "stream",
     "text": [
      "2024-04-24 10:40:21.291514: I tensorflow/tsl/cuda/cudart_stub.cc:28] Could not find cuda drivers on your machine, GPU will not be used.\n",
      "2024-04-24 10:40:21.339410: I tensorflow/tsl/cuda/cudart_stub.cc:28] Could not find cuda drivers on your machine, GPU will not be used.\n",
      "2024-04-24 10:40:21.339960: I tensorflow/core/platform/cpu_feature_guard.cc:182] This TensorFlow binary is optimized to use available CPU instructions in performance-critical operations.\n",
      "To enable the following instructions: AVX2 FMA, in other operations, rebuild TensorFlow with the appropriate compiler flags.\n",
      "2024-04-24 10:40:22.143292: W tensorflow/compiler/tf2tensorrt/utils/py_utils.cc:38] TF-TRT Warning: Could not find TensorRT\n"
     ]
    }
   ],
   "source": [
    "from keras.models import Sequential\n",
    "from keras.layers import Dense, LSTM, GRU, Conv1D,MaxPooling1D\n",
    "from keras.layers import Dropout, BatchNormalization, Flatten\n",
    "from keras.wrappers.scikit_learn import KerasRegressor\n",
    "from keras import backend as K"
   ]
  },
  {
   "cell_type": "code",
   "execution_count": 11,
   "id": "1831bfdb",
   "metadata": {},
   "outputs": [
    {
     "name": "stderr",
     "output_type": "stream",
     "text": [
      "2024-04-24 10:40:25.460411: I tensorflow/compiler/xla/stream_executor/cuda/cuda_gpu_executor.cc:982] could not open file to read NUMA node: /sys/bus/pci/devices/0000:01:00.0/numa_node\n",
      "Your kernel may have been built without NUMA support.\n",
      "2024-04-24 10:40:25.460959: W tensorflow/core/common_runtime/gpu/gpu_device.cc:1956] Cannot dlopen some GPU libraries. Please make sure the missing libraries mentioned above are installed properly if you would like to use GPU. Follow the guide at https://www.tensorflow.org/install/gpu for how to download and setup the required libraries for your platform.\n",
      "Skipping registering GPU devices...\n"
     ]
    },
    {
     "name": "stdout",
     "output_type": "stream",
     "text": [
      "Model: \"sequential\"\n",
      "_________________________________________________________________\n",
      " Layer (type)                Output Shape              Param #   \n",
      "=================================================================\n",
      " conv1d (Conv1D)             (None, 5, 20)             220       \n",
      "                                                                 \n",
      " max_pooling1d (MaxPooling1D  (None, 1, 20)            0         \n",
      " )                                                               \n",
      "                                                                 \n",
      " dropout (Dropout)           (None, 1, 20)             0         \n",
      "                                                                 \n",
      " lstm (LSTM)                 (None, 1, 150)            102600    \n",
      "                                                                 \n",
      " batch_normalization (BatchN  (None, 1, 150)           600       \n",
      " ormalization)                                                   \n",
      "                                                                 \n",
      " dropout_1 (Dropout)         (None, 1, 150)            0         \n",
      "                                                                 \n",
      " dense (Dense)               (None, 1, 150)            22650     \n",
      "                                                                 \n",
      " batch_normalization_1 (Batc  (None, 1, 150)           600       \n",
      " hNormalization)                                                 \n",
      "                                                                 \n",
      " dropout_2 (Dropout)         (None, 1, 150)            0         \n",
      "                                                                 \n",
      " dense_1 (Dense)             (None, 1, 75)             11325     \n",
      "                                                                 \n",
      " batch_normalization_2 (Batc  (None, 1, 75)            300       \n",
      " hNormalization)                                                 \n",
      "                                                                 \n",
      " dropout_3 (Dropout)         (None, 1, 75)             0         \n",
      "                                                                 \n",
      " dense_2 (Dense)             (None, 1, 25)             1900      \n",
      "                                                                 \n",
      " batch_normalization_3 (Batc  (None, 1, 25)            100       \n",
      " hNormalization)                                                 \n",
      "                                                                 \n",
      " dropout_4 (Dropout)         (None, 1, 25)             0         \n",
      "                                                                 \n",
      " flatten (Flatten)           (None, 25)                0         \n",
      "                                                                 \n",
      " dense_3 (Dense)             (None, 1)                 26        \n",
      "                                                                 \n",
      "=================================================================\n",
      "Total params: 140,321\n",
      "Trainable params: 139,521\n",
      "Non-trainable params: 800\n",
      "_________________________________________________________________\n"
     ]
    }
   ],
   "source": [
    "count = 8\n",
    "len_x=int(x_train.shape[1])\n",
    "\n",
    "model = Sequential()\n",
    "model.add(Conv1D(filters=20, kernel_size=10 ,strides=10,     \n",
    "                  input_shape = (len_x,1), kernel_initializer= 'uniform',      \n",
    "                  activation= 'relu'))\n",
    "model.add(MaxPooling1D(pool_size=2, strides=10, padding='same'))\n",
    "model.add(Dropout(.17))\n",
    "model.add(LSTM(units = 150 , kernel_initializer = 'normal', activation = 'softmax',return_sequences=True))\n",
    "model.add(BatchNormalization())\n",
    "model.add(Dropout(.4))\n",
    "model.add(Dense(units = 150 , kernel_initializer = 'normal', activation = 'relu'))\n",
    "\n",
    "model.add(BatchNormalization())\n",
    "model.add(Dropout(.32))\n",
    "model.add(Dense(units = 75, kernel_initializer = 'normal', activation = 'relu'))\n",
    "model.add(BatchNormalization())\n",
    "model.add(Dropout(.22))\n",
    "model.add(Dense(units = 25, kernel_initializer = 'normal', activation = 'relu'))\n",
    "model.add(BatchNormalization())\n",
    "model.add(Dropout(.22))\n",
    "model.add(Flatten())\n",
    "model.add(Dense(1, kernel_initializer='normal'))\n",
    "model.compile(loss='mean_absolute_error', optimizer='adam', metrics = ['accuracy'])\n",
    "\n",
    "model.summary()"
   ]
  },
  {
   "cell_type": "markdown",
   "id": "be250acc",
   "metadata": {},
   "source": [
    "### Our model is using a total of 18 layers, now let's fit and plot our loss curves"
   ]
  },
  {
   "cell_type": "code",
   "execution_count": 12,
   "id": "e7e6fea6",
   "metadata": {},
   "outputs": [
    {
     "name": "stdout",
     "output_type": "stream",
     "text": [
      "Epoch 1/10\n",
      "2257/2257 [==============================] - 26s 10ms/step - loss: 0.0733 - accuracy: 0.0095 - val_loss: 0.0659 - val_accuracy: 0.0091\n",
      "Epoch 2/10\n",
      "2257/2257 [==============================] - 23s 10ms/step - loss: 0.0694 - accuracy: 0.0095 - val_loss: 0.0662 - val_accuracy: 0.0091\n",
      "Epoch 3/10\n",
      "2257/2257 [==============================] - 22s 10ms/step - loss: 0.0690 - accuracy: 0.0095 - val_loss: 0.0661 - val_accuracy: 0.0091\n",
      "Epoch 4/10\n",
      "2257/2257 [==============================] - 22s 10ms/step - loss: 0.0688 - accuracy: 0.0095 - val_loss: 0.0661 - val_accuracy: 0.0091\n",
      "Epoch 5/10\n",
      "2257/2257 [==============================] - 22s 10ms/step - loss: 0.0687 - accuracy: 0.0095 - val_loss: 0.0662 - val_accuracy: 0.0091\n",
      "Epoch 6/10\n",
      "2257/2257 [==============================] - 23s 10ms/step - loss: 0.0687 - accuracy: 0.0095 - val_loss: 0.0663 - val_accuracy: 0.0091\n",
      "Epoch 7/10\n",
      "2257/2257 [==============================] - 23s 10ms/step - loss: 0.0687 - accuracy: 0.0095 - val_loss: 0.0663 - val_accuracy: 0.0091\n",
      "Epoch 8/10\n",
      "2257/2257 [==============================] - 23s 10ms/step - loss: 0.0687 - accuracy: 0.0095 - val_loss: 0.0663 - val_accuracy: 0.0091\n",
      "Epoch 9/10\n",
      "2257/2257 [==============================] - 22s 10ms/step - loss: 0.0687 - accuracy: 0.0095 - val_loss: 0.0661 - val_accuracy: 0.0091\n",
      "Epoch 10/10\n",
      "2257/2257 [==============================] - 23s 10ms/step - loss: 0.0687 - accuracy: 0.0095 - val_loss: 0.0665 - val_accuracy: 0.0091\n"
     ]
    },
    {
     "data": {
      "text/plain": [
       "<matplotlib.legend.Legend at 0x7fcbe95cec50>"
      ]
     },
     "execution_count": 12,
     "metadata": {},
     "output_type": "execute_result"
    },
    {
     "data": {
      "image/png": "[encoded data removed]",
      "text/plain": [
       "<Figure size 640x480 with 1 Axes>"
      ]
     },
     "metadata": {},
     "output_type": "display_data"
    }
   ],
   "source": [
    "import matplotlib.pyplot as plt\n",
    "\n",
    "# Fit the model on training data and save the training history\n",
    "history = model.fit(x_train, y_train, epochs=10, batch_size=32, validation_split=0.2)\n",
    "\n",
    "# Plot training and validation loss\n",
    "plt.plot(range(len(history.history[\"loss\"])),history.history[\"loss\"],label=\"Training Loss\")\n",
    "plt.plot(range(len(history.history[\"val_loss\"])),history.history[\"val_loss\"],label=\"Validation Loss\")\n",
    "plt.legend()"
   ]
  },
  {
   "cell_type": "markdown",
   "id": "2f96ca3b",
   "metadata": {},
   "source": [
    "# Model Performance"
   ]
  },
  {
   "cell_type": "code",
   "execution_count": 14,
   "id": "349dfae0",
   "metadata": {},
   "outputs": [
    {
     "name": "stdout",
     "output_type": "stream",
     "text": [
      "2822/2822 [==============================] - 11s 4ms/step - loss: 0.0682 - accuracy: 0.0094\n",
      "[0.068210668861866, 0.009382442571222782]\n"
     ]
    }
   ],
   "source": [
    "scores = model.evaluate(x_test, y_train)\n",
    "print(scores)"
   ]
  },
  {
   "cell_type": "markdown",
   "id": "537c9d4e",
   "metadata": {},
   "source": [
    "It seems our model has a loss of 0.0682 and an accuracy score of 0.0094\n",
    "- Model only accurately 0.94% of instances in the dataset\n",
    "- Our loss value is extremely low which shows our model is doing well minimalizing loss\n",
    "\n",
    "Accuracy likely is low due to misclassification, class imbalance or other issues. Other metrics might be better to use like MSE, RMSE, R-Squared and Adjusted R-Squared"
   ]
  },
  {
   "cell_type": "markdown",
   "id": "27803686",
   "metadata": {},
   "source": [
    "# Model Comparison with XGBoost"
   ]
  },
  {
   "cell_type": "code",
   "execution_count": 23,
   "id": "247218fe",
   "metadata": {},
   "outputs": [],
   "source": [
    "from sklearn.preprocessing import LabelEncoder\n",
    "\n",
    "for c in props.columns: # Converts all categorical values to numerical values via Label Encoding\n",
    "    props[c]=props[c].fillna(-1)\n",
    "    if props[c].dtype == 'object':\n",
    "        lbl = LabelEncoder()\n",
    "        lbl.fit(list(props[c].values))\n",
    "        props[c] = lbl.transform(list(props[c].values))\n",
    "\n",
    "train_df = train.merge(props, how='left', on='parcelid') #Merged the old dataset with the converted properties set"
   ]
  },
  {
   "cell_type": "code",
   "execution_count": 24,
   "id": "e8a39bfd",
   "metadata": {},
   "outputs": [
    {
     "name": "stdout",
     "output_type": "stream",
     "text": [
      "Shape of train dataset: (90275, 57)\n",
      "Shape of test dataset: (90274, 57)\n"
     ]
    }
   ],
   "source": [
    "from sklearn.model_selection import train_test_split\n",
    "from sklearn.metrics import mean_absolute_error\n",
    "\n",
    "x_train = train_df.drop(['parcelid', 'logerror','transactiondate'], axis=1)\n",
    "x_test = props.drop(['parcelid'], axis=1)\n",
    "# printing out the shape        \n",
    "print('Shape of train dataset: {}\\nShape of test dataset: {}'.format(x_train.shape, x_test.shape))\n",
    "\n",
    "# taking out potential outliers to fit our model better\n",
    "train_df=train_df[ train_df.logerror > -0.4 ]\n",
    "train_df=train_df[ train_df.logerror < 0.42 ]\n",
    "x_train=train_df.drop(['parcelid', 'logerror','transactiondate'], axis=1)\n",
    "y_train = train_df[\"logerror\"].values.astype(np.float32)\n",
    "y_mean = np.mean(y_train)"
   ]
  },
  {
   "cell_type": "code",
   "execution_count": 25,
   "id": "6022f69c",
   "metadata": {},
   "outputs": [],
   "source": [
    "import xgboost as xgb\n",
    "# Parameters for XG Boosting\n",
    "xgb_params = {\n",
    "    'eta': 0.033,\n",
    "    'max_depth': 6,\n",
    "    'subsample': 0.80,\n",
    "    'objective': 'reg:linear',\n",
    "    'eval_metric': 'mae',\n",
    "    'base_score': y_mean,\n",
    "    'silent': 1\n",
    "}\n",
    "\n",
    "dtrain = xgb.DMatrix(x_train, y_train)\n",
    "dtest = xgb.DMatrix(x_test)"
   ]
  },
  {
   "cell_type": "code",
   "execution_count": 26,
   "id": "61165ab5",
   "metadata": {},
   "outputs": [
    {
     "name": "stdout",
     "output_type": "stream",
     "text": [
      "[0]\ttrain-mae:0.05331\ttest-mae:0.05331\n",
      "[10]\ttrain-mae:0.05328\ttest-mae:0.05331\n",
      "[12]\ttrain-mae:0.05327\ttest-mae:0.05331\n",
      "8\n"
     ]
    }
   ],
   "source": [
    "# Creating Cross-Validation Set\n",
    "cv_result = xgb.cv(xgb_params, \n",
    "                   dtrain, \n",
    "                   nfold=5,\n",
    "                   num_boost_round=500,\n",
    "                   early_stopping_rounds=5,\n",
    "                   verbose_eval=10, \n",
    "                   show_stdv=False\n",
    "                  )\n",
    "\n",
    "num_boost_rounds = len(cv_result)\n",
    "print(num_boost_rounds)"
   ]
  },
  {
   "cell_type": "code",
   "execution_count": 27,
   "id": "1f1b0171",
   "metadata": {},
   "outputs": [],
   "source": [
    "# training our model\n",
    "model = xgb.train(dict(xgb_params, silent=1), dtrain, num_boost_round=num_boost_rounds)\n",
    "pred = model.predict(dtest)\n",
    "y_pred=[]\n",
    "\n",
    "# Printing out our MAE scores for the train and test sets\n",
    "for i,predict in enumerate(pred):\n",
    "    y_pred.append(str(round(predict,10)))\n",
    "y_pred=np.array(y_pred)"
   ]
  },
  {
   "cell_type": "code",
   "execution_count": 29,
   "id": "839e4efb",
   "metadata": {},
   "outputs": [
    {
     "data": {
      "image/png": "[encoded data removed]",
      "text/plain": [
       "<Figure size 1000x600 with 1 Axes>"
      ]
     },
     "metadata": {},
     "output_type": "display_data"
    }
   ],
   "source": [
    "# Extract mean absolute error values from cross-validation results\n",
    "train_mae = cv_result['train-mae-mean']\n",
    "test_mae = cv_result['test-mae-mean']\n",
    "\n",
    "# Plot loss curves\n",
    "plt.figure(figsize=(10, 6))\n",
    "plt.plot(range(1, num_boost_rounds + 1), train_mae, label='Training MAE')\n",
    "plt.plot(range(1, num_boost_rounds + 1), test_mae, label='Validation MAE')\n",
    "plt.title('XGBoost Loss Curve')\n",
    "plt.xlabel('Number of Boosting Rounds')\n",
    "plt.ylabel('Mean Absolute Error')\n",
    "plt.legend()\n",
    "plt.show()"
   ]
  },
  {
   "cell_type": "markdown",
   "id": "584b1dbf",
   "metadata": {},
   "source": [
    "# Conclusions"
   ]
  },
  {
   "cell_type": "markdown",
   "id": "9b121d69",
   "metadata": {},
   "source": [
    "In general, it seems that our original XGBoost model does a better job in terms of accuracy and loss compared to the Keras Deep Learning model we made. \n",
    "\n",
    "Some improvements I do think that we can do is try fixing the holes in the dataset if any do exist, use more layers and attempt a better model by using Transfer Learning if possible"
   ]
  }
 ],
 "metadata": {
  "kernelspec": {
   "display_name": "Python 3 (ipykernel)",
   "language": "python",
   "name": "python3"
  },
  "language_info": {
   "codemirror_mode": {
    "name": "ipython",
    "version": 3
   },
   "file_extension": ".py",
   "mimetype": "text/x-python",
   "name": "python",
   "nbconvert_exporter": "python",
   "pygments_lexer": "ipython3",
   "version": "3.10.12"
  }
 },
 "nbformat": 4,
 "nbformat_minor": 5
}
