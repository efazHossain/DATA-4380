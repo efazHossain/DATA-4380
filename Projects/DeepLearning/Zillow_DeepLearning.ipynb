{
 "cells": [
  {
   "cell_type": "markdown",
   "id": "567f74dc",
   "metadata": {},
   "source": [
    "# Homework\n",
    "Your homework is to create a new notebook modeled after this one, where:\n",
    "- You've put all of your cleaning and prepration steps into a functions you load and use in a module.\n",
    "- You create and train a simple appropriate model for your task.\n",
    "- You assess the performance using the appropriate metric for your task.\n",
    "- Compare the performance with your previous best non Deep Neural Network model. This probably will mean you copy and paste your training from your other notebook into this notebook."
   ]
  },
  {
   "cell_type": "code",
   "execution_count": 1,
   "id": "e20747fd",
   "metadata": {},
   "outputs": [],
   "source": [
    "from process import * # module that contains data preprocessing and cleaning (includes libraries)"
   ]
  },
  {
   "cell_type": "code",
   "execution_count": 2,
   "id": "35ea83e7",
   "metadata": {},
   "outputs": [],
   "source": [
    "train = pd.read_csv('/mnt/c/users/efazh/DataProblems/Datasets/Tabular/Zillow/train_2016_v2.csv',parse_dates=[\"transactiondate\"] )\n",
    "props = pd.read_csv('/mnt/c/users/efazh/DataProblems/Datasets/Tabular/Zillow/property_2016.csv')\n",
    "sample = pd.read_csv('/mnt/c/users/efazh/DataProblems/Datasets/Tabular/Zillow/sample_submission.csv')"
   ]
  },
  {
   "cell_type": "code",
   "execution_count": 3,
   "id": "6565fb2f",
   "metadata": {},
   "outputs": [
    {
     "data": {
      "text/html": [
       "<div>\n",
       "<style scoped>\n",
       "    .dataframe tbody tr th:only-of-type {\n",
       "        vertical-align: middle;\n",
       "    }\n",
       "\n",
       "    .dataframe tbody tr th {\n",
       "        vertical-align: top;\n",
       "    }\n",
       "\n",
       "    .dataframe thead th {\n",
       "        text-align: right;\n",
       "    }\n",
       "</style>\n",
       "<table border=\"1\" class=\"dataframe\">\n",
       "  <thead>\n",
       "    <tr style=\"text-align: right;\">\n",
       "      <th></th>\n",
       "      <th>parcelid</th>\n",
       "      <th>logerror</th>\n",
       "      <th>transactiondate</th>\n",
       "      <th>airconditioningtypeid</th>\n",
       "      <th>architecturalstyletypeid</th>\n",
       "      <th>basementsqft</th>\n",
       "      <th>bathroomcnt</th>\n",
       "      <th>bedroomcnt</th>\n",
       "      <th>buildingclasstypeid</th>\n",
       "      <th>buildingqualitytypeid</th>\n",
       "      <th>...</th>\n",
       "      <th>numberofstories</th>\n",
       "      <th>fireplaceflag</th>\n",
       "      <th>structuretaxvaluedollarcnt</th>\n",
       "      <th>taxvaluedollarcnt</th>\n",
       "      <th>assessmentyear</th>\n",
       "      <th>landtaxvaluedollarcnt</th>\n",
       "      <th>taxamount</th>\n",
       "      <th>taxdelinquencyflag</th>\n",
       "      <th>taxdelinquencyyear</th>\n",
       "      <th>censustractandblock</th>\n",
       "    </tr>\n",
       "  </thead>\n",
       "  <tbody>\n",
       "    <tr>\n",
       "      <th>0</th>\n",
       "      <td>11016594</td>\n",
       "      <td>0.0276</td>\n",
       "      <td>2016-01-01</td>\n",
       "      <td>NaN</td>\n",
       "      <td>NaN</td>\n",
       "      <td>NaN</td>\n",
       "      <td>NaN</td>\n",
       "      <td>NaN</td>\n",
       "      <td>NaN</td>\n",
       "      <td>NaN</td>\n",
       "      <td>...</td>\n",
       "      <td>NaN</td>\n",
       "      <td>NaN</td>\n",
       "      <td>NaN</td>\n",
       "      <td>NaN</td>\n",
       "      <td>NaN</td>\n",
       "      <td>NaN</td>\n",
       "      <td>NaN</td>\n",
       "      <td>NaN</td>\n",
       "      <td>NaN</td>\n",
       "      <td>NaN</td>\n",
       "    </tr>\n",
       "    <tr>\n",
       "      <th>1</th>\n",
       "      <td>14366692</td>\n",
       "      <td>-0.1684</td>\n",
       "      <td>2016-01-01</td>\n",
       "      <td>NaN</td>\n",
       "      <td>NaN</td>\n",
       "      <td>NaN</td>\n",
       "      <td>NaN</td>\n",
       "      <td>NaN</td>\n",
       "      <td>NaN</td>\n",
       "      <td>NaN</td>\n",
       "      <td>...</td>\n",
       "      <td>NaN</td>\n",
       "      <td>NaN</td>\n",
       "      <td>NaN</td>\n",
       "      <td>NaN</td>\n",
       "      <td>NaN</td>\n",
       "      <td>NaN</td>\n",
       "      <td>NaN</td>\n",
       "      <td>NaN</td>\n",
       "      <td>NaN</td>\n",
       "      <td>NaN</td>\n",
       "    </tr>\n",
       "    <tr>\n",
       "      <th>2</th>\n",
       "      <td>12098116</td>\n",
       "      <td>-0.0040</td>\n",
       "      <td>2016-01-01</td>\n",
       "      <td>NaN</td>\n",
       "      <td>NaN</td>\n",
       "      <td>NaN</td>\n",
       "      <td>NaN</td>\n",
       "      <td>NaN</td>\n",
       "      <td>NaN</td>\n",
       "      <td>NaN</td>\n",
       "      <td>...</td>\n",
       "      <td>NaN</td>\n",
       "      <td>NaN</td>\n",
       "      <td>NaN</td>\n",
       "      <td>NaN</td>\n",
       "      <td>NaN</td>\n",
       "      <td>NaN</td>\n",
       "      <td>NaN</td>\n",
       "      <td>NaN</td>\n",
       "      <td>NaN</td>\n",
       "      <td>NaN</td>\n",
       "    </tr>\n",
       "    <tr>\n",
       "      <th>3</th>\n",
       "      <td>12643413</td>\n",
       "      <td>0.0218</td>\n",
       "      <td>2016-01-02</td>\n",
       "      <td>NaN</td>\n",
       "      <td>NaN</td>\n",
       "      <td>NaN</td>\n",
       "      <td>NaN</td>\n",
       "      <td>NaN</td>\n",
       "      <td>NaN</td>\n",
       "      <td>NaN</td>\n",
       "      <td>...</td>\n",
       "      <td>NaN</td>\n",
       "      <td>NaN</td>\n",
       "      <td>NaN</td>\n",
       "      <td>NaN</td>\n",
       "      <td>NaN</td>\n",
       "      <td>NaN</td>\n",
       "      <td>NaN</td>\n",
       "      <td>NaN</td>\n",
       "      <td>NaN</td>\n",
       "      <td>NaN</td>\n",
       "    </tr>\n",
       "    <tr>\n",
       "      <th>4</th>\n",
       "      <td>14432541</td>\n",
       "      <td>-0.0050</td>\n",
       "      <td>2016-01-02</td>\n",
       "      <td>NaN</td>\n",
       "      <td>NaN</td>\n",
       "      <td>NaN</td>\n",
       "      <td>NaN</td>\n",
       "      <td>NaN</td>\n",
       "      <td>NaN</td>\n",
       "      <td>NaN</td>\n",
       "      <td>...</td>\n",
       "      <td>NaN</td>\n",
       "      <td>NaN</td>\n",
       "      <td>NaN</td>\n",
       "      <td>NaN</td>\n",
       "      <td>NaN</td>\n",
       "      <td>NaN</td>\n",
       "      <td>NaN</td>\n",
       "      <td>NaN</td>\n",
       "      <td>NaN</td>\n",
       "      <td>NaN</td>\n",
       "    </tr>\n",
       "  </tbody>\n",
       "</table>\n",
       "<p>5 rows × 60 columns</p>\n",
       "</div>"
      ],
      "text/plain": [
       "   parcelid  logerror transactiondate  airconditioningtypeid  \\\n",
       "0  11016594    0.0276      2016-01-01                    NaN   \n",
       "1  14366692   -0.1684      2016-01-01                    NaN   \n",
       "2  12098116   -0.0040      2016-01-01                    NaN   \n",
       "3  12643413    0.0218      2016-01-02                    NaN   \n",
       "4  14432541   -0.0050      2016-01-02                    NaN   \n",
       "\n",
       "   architecturalstyletypeid  basementsqft  bathroomcnt  bedroomcnt  \\\n",
       "0                       NaN           NaN          NaN         NaN   \n",
       "1                       NaN           NaN          NaN         NaN   \n",
       "2                       NaN           NaN          NaN         NaN   \n",
       "3                       NaN           NaN          NaN         NaN   \n",
       "4                       NaN           NaN          NaN         NaN   \n",
       "\n",
       "   buildingclasstypeid  buildingqualitytypeid  ...  numberofstories  \\\n",
       "0                  NaN                    NaN  ...              NaN   \n",
       "1                  NaN                    NaN  ...              NaN   \n",
       "2                  NaN                    NaN  ...              NaN   \n",
       "3                  NaN                    NaN  ...              NaN   \n",
       "4                  NaN                    NaN  ...              NaN   \n",
       "\n",
       "   fireplaceflag  structuretaxvaluedollarcnt  taxvaluedollarcnt  \\\n",
       "0            NaN                         NaN                NaN   \n",
       "1            NaN                         NaN                NaN   \n",
       "2            NaN                         NaN                NaN   \n",
       "3            NaN                         NaN                NaN   \n",
       "4            NaN                         NaN                NaN   \n",
       "\n",
       "   assessmentyear  landtaxvaluedollarcnt  taxamount  taxdelinquencyflag  \\\n",
       "0             NaN                    NaN        NaN                 NaN   \n",
       "1             NaN                    NaN        NaN                 NaN   \n",
       "2             NaN                    NaN        NaN                 NaN   \n",
       "3             NaN                    NaN        NaN                 NaN   \n",
       "4             NaN                    NaN        NaN                 NaN   \n",
       "\n",
       "   taxdelinquencyyear  censustractandblock  \n",
       "0                 NaN                  NaN  \n",
       "1                 NaN                  NaN  \n",
       "2                 NaN                  NaN  \n",
       "3                 NaN                  NaN  \n",
       "4                 NaN                  NaN  \n",
       "\n",
       "[5 rows x 60 columns]"
      ]
     },
     "execution_count": 3,
     "metadata": {},
     "output_type": "execute_result"
    }
   ],
   "source": [
    "train_df = label_encode(train,props) # label encodes the properties dataset\n",
    "train_df.head(5)"
   ]
  },
  {
   "cell_type": "code",
   "execution_count": 4,
   "id": "c8a89229",
   "metadata": {},
   "outputs": [
    {
     "name": "stdout",
     "output_type": "stream",
     "text": [
      "Shape of train dataset: (90275, 57)\n",
      "Shape of test dataset: (90274, 57)\n"
     ]
    }
   ],
   "source": [
    "X_train = train_df.drop(['parcelid', 'logerror','transactiondate'], axis=1)\n",
    "X_test = props.drop(['parcelid'], axis=1)\n",
    "# printing out the shape        \n",
    "print('Shape of train dataset: {}\\nShape of test dataset: {}'.format(X_train.shape, X_test.shape))\n",
    "\n",
    "# taking out potential outliers to fit our model better\n",
    "train_df=train_df[train_df.logerror > -0.4 ]\n",
    "train_df=train_df[train_df.logerror < 0.42 ]\n",
    "X_train=train_df.drop(['parcelid', 'logerror','transactiondate'], axis=1)\n",
    "y_train = train_df[\"logerror\"].values.astype(np.float32)\n",
    "y_mean = np.mean(y_train)"
   ]
  },
  {
   "cell_type": "code",
   "execution_count": 5,
   "id": "5b127de3",
   "metadata": {},
   "outputs": [],
   "source": [
    "preprocess(X_train, X_test) # Conducts Imputation and StandardScaler on the X_train/X_test sets"
   ]
  },
  {
   "cell_type": "markdown",
   "id": "a50d1ebe",
   "metadata": {},
   "source": [
    "# Keras Sequential"
   ]
  },
  {
   "cell_type": "code",
   "execution_count": 6,
   "id": "da245790",
   "metadata": {},
   "outputs": [
    {
     "name": "stderr",
     "output_type": "stream",
     "text": [
      "2024-04-03 10:58:56.440780: I tensorflow/tsl/cuda/cudart_stub.cc:28] Could not find cuda drivers on your machine, GPU will not be used.\n",
      "2024-04-03 10:58:56.500719: I tensorflow/tsl/cuda/cudart_stub.cc:28] Could not find cuda drivers on your machine, GPU will not be used.\n",
      "2024-04-03 10:58:56.501276: I tensorflow/core/platform/cpu_feature_guard.cc:182] This TensorFlow binary is optimized to use available CPU instructions in performance-critical operations.\n",
      "To enable the following instructions: AVX2 FMA, in other operations, rebuild TensorFlow with the appropriate compiler flags.\n",
      "2024-04-03 10:58:57.353309: W tensorflow/compiler/tf2tensorrt/utils/py_utils.cc:38] TF-TRT Warning: Could not find TensorRT\n"
     ]
    }
   ],
   "source": [
    "from keras.models import Sequential\n",
    "from keras.layers import Dense, LSTM, GRU, Conv1D,MaxPooling1D\n",
    "from keras.layers import Dropout, BatchNormalization, Flatten\n",
    "from keras.wrappers.scikit_learn import KerasRegressor\n",
    "from sklearn.model_selection import cross_val_score\n",
    "from sklearn.model_selection import KFold\n",
    "from sklearn.preprocessing import StandardScaler\n",
    "from sklearn.pipeline import Pipeline\n",
    "from sklearn.preprocessing import LabelEncoder\n",
    "from keras import backend as K"
   ]
  },
  {
   "cell_type": "code",
   "execution_count": 7,
   "id": "4ee5f1c3",
   "metadata": {},
   "outputs": [
    {
     "name": "stdout",
     "output_type": "stream",
     "text": [
      "len_x is: 57\n"
     ]
    }
   ],
   "source": [
    "count = 8\n",
    "len_x=int(X_train.shape[1])\n",
    "print(\"len_x is:\",len_x)"
   ]
  },
  {
   "cell_type": "code",
   "execution_count": 8,
   "id": "c4df67a8",
   "metadata": {},
   "outputs": [
    {
     "name": "stderr",
     "output_type": "stream",
     "text": [
      "2024-04-03 10:58:58.523607: I tensorflow/compiler/xla/stream_executor/cuda/cuda_gpu_executor.cc:982] could not open file to read NUMA node: /sys/bus/pci/devices/0000:01:00.0/numa_node\n",
      "Your kernel may have been built without NUMA support.\n",
      "2024-04-03 10:58:58.524250: W tensorflow/core/common_runtime/gpu/gpu_device.cc:1956] Cannot dlopen some GPU libraries. Please make sure the missing libraries mentioned above are installed properly if you would like to use GPU. Follow the guide at https://www.tensorflow.org/install/gpu for how to download and setup the required libraries for your platform.\n",
      "Skipping registering GPU devices...\n"
     ]
    },
    {
     "name": "stdout",
     "output_type": "stream",
     "text": [
      "Model: \"sequential\"\n",
      "_________________________________________________________________\n",
      " Layer (type)                Output Shape              Param #   \n",
      "=================================================================\n",
      " conv1d (Conv1D)             (None, 5, 20)             220       \n",
      "                                                                 \n",
      " max_pooling1d (MaxPooling1D  (None, 1, 20)            0         \n",
      " )                                                               \n",
      "                                                                 \n",
      " dropout (Dropout)           (None, 1, 20)             0         \n",
      "                                                                 \n",
      " lstm (LSTM)                 (None, 1, 150)            102600    \n",
      "                                                                 \n",
      " batch_normalization (BatchN  (None, 1, 150)           600       \n",
      " ormalization)                                                   \n",
      "                                                                 \n",
      " dropout_1 (Dropout)         (None, 1, 150)            0         \n",
      "                                                                 \n",
      " dense (Dense)               (None, 1, 150)            22650     \n",
      "                                                                 \n",
      " batch_normalization_1 (Batc  (None, 1, 150)           600       \n",
      " hNormalization)                                                 \n",
      "                                                                 \n",
      " dropout_2 (Dropout)         (None, 1, 150)            0         \n",
      "                                                                 \n",
      " dense_1 (Dense)             (None, 1, 75)             11325     \n",
      "                                                                 \n",
      " batch_normalization_2 (Batc  (None, 1, 75)            300       \n",
      " hNormalization)                                                 \n",
      "                                                                 \n",
      " dropout_3 (Dropout)         (None, 1, 75)             0         \n",
      "                                                                 \n",
      " dense_2 (Dense)             (None, 1, 25)             1900      \n",
      "                                                                 \n",
      " batch_normalization_3 (Batc  (None, 1, 25)            100       \n",
      " hNormalization)                                                 \n",
      "                                                                 \n",
      " dropout_4 (Dropout)         (None, 1, 25)             0         \n",
      "                                                                 \n",
      " flatten (Flatten)           (None, 25)                0         \n",
      "                                                                 \n",
      " dense_3 (Dense)             (None, 1)                 26        \n",
      "                                                                 \n",
      "=================================================================\n",
      "Total params: 140,321\n",
      "Trainable params: 139,521\n",
      "Non-trainable params: 800\n",
      "_________________________________________________________________\n"
     ]
    }
   ],
   "source": [
    "## The model- Uses a few dense layers on top of LSTM and CNN layers. \n",
    "\n",
    "model = Sequential()\n",
    "model.add(Conv1D(filters=20, kernel_size=10 ,strides=10,     \n",
    "                  input_shape = (len_x,1), kernel_initializer= 'uniform',      \n",
    "                  activation= 'relu'))\n",
    "model.add(MaxPooling1D(pool_size=2, strides=10, padding='same'))\n",
    "model.add(Dropout(.17))\n",
    "model.add(LSTM(units = 150 , kernel_initializer = 'normal', activation = 'softmax',return_sequences=True))\n",
    "model.add(BatchNormalization())\n",
    "model.add(Dropout(.4))\n",
    "model.add(Dense(units = 150 , kernel_initializer = 'normal', activation = 'relu'))\n",
    "\n",
    "model.add(BatchNormalization())\n",
    "model.add(Dropout(.32))\n",
    "model.add(Dense(units = 75, kernel_initializer = 'normal', activation = 'relu'))\n",
    "model.add(BatchNormalization())\n",
    "model.add(Dropout(.22))\n",
    "model.add(Dense(units = 25, kernel_initializer = 'normal', activation = 'relu'))\n",
    "model.add(BatchNormalization())\n",
    "model.add(Dropout(.22))\n",
    "model.add(Flatten())\n",
    "model.add(Dense(1, kernel_initializer='normal'))\n",
    "model.compile(loss='mean_absolute_error', optimizer='rmsprop')\n",
    "\n",
    "model.summary()"
   ]
  },
  {
   "cell_type": "code",
   "execution_count": 9,
   "id": "5bae3fa9",
   "metadata": {},
   "outputs": [
    {
     "name": "stdout",
     "output_type": "stream",
     "text": [
      "88528 88528\n",
      "(88528, 57, 1) (88528,)\n"
     ]
    }
   ],
   "source": [
    "print(len(X_train), len(y_train))\n",
    "x = np.array(X_train)\n",
    "x = np.expand_dims(x, axis=2)\n",
    "y = np.array(y_train)\n",
    "print(x.shape,y.shape)"
   ]
  },
  {
   "cell_type": "code",
   "execution_count": 10,
   "id": "2c113df3",
   "metadata": {},
   "outputs": [
    {
     "name": "stdout",
     "output_type": "stream",
     "text": [
      "Epoch 1/20\n",
      "692/692 [==============================] - 11s 11ms/step - loss: nan\n",
      "Epoch 2/20\n",
      "692/692 [==============================] - 8s 11ms/step - loss: nan\n",
      "Epoch 3/20\n",
      "692/692 [==============================] - 8s 11ms/step - loss: nan\n",
      "Epoch 4/20\n",
      "692/692 [==============================] - 8s 11ms/step - loss: nan\n",
      "Epoch 5/20\n",
      "692/692 [==============================] - 8s 11ms/step - loss: nan\n",
      "Epoch 6/20\n",
      "692/692 [==============================] - 8s 11ms/step - loss: nan\n",
      "Epoch 7/20\n",
      "692/692 [==============================] - 8s 11ms/step - loss: nan\n",
      "Epoch 8/20\n",
      "692/692 [==============================] - 8s 11ms/step - loss: nan\n",
      "Epoch 9/20\n",
      "692/692 [==============================] - 8s 11ms/step - loss: nan\n",
      "Epoch 10/20\n",
      "692/692 [==============================] - 8s 11ms/step - loss: nan\n",
      "Epoch 11/20\n",
      "692/692 [==============================] - 8s 11ms/step - loss: nan\n",
      "Epoch 12/20\n",
      "692/692 [==============================] - 8s 11ms/step - loss: nan\n",
      "Epoch 13/20\n",
      "692/692 [==============================] - 8s 11ms/step - loss: nan\n",
      "Epoch 14/20\n",
      "692/692 [==============================] - 8s 11ms/step - loss: nan\n",
      "Epoch 15/20\n",
      "692/692 [==============================] - 8s 11ms/step - loss: nan\n",
      "Epoch 16/20\n",
      "692/692 [==============================] - 8s 11ms/step - loss: nan\n",
      "Epoch 17/20\n",
      "692/692 [==============================] - 8s 11ms/step - loss: nan\n",
      "Epoch 18/20\n",
      "692/692 [==============================] - 8s 11ms/step - loss: nan\n",
      "Epoch 19/20\n",
      "692/692 [==============================] - 8s 11ms/step - loss: nan\n",
      "Epoch 20/20\n",
      "692/692 [==============================] - 8s 11ms/step - loss: nan\n",
      "x_test.shape: (90274, 57)\n"
     ]
    },
    {
     "ename": "AttributeError",
     "evalue": "'DataFrame' object has no attribute 'reshape'",
     "output_type": "error",
     "traceback": [
      "\u001b[0;31m---------------------------------------------------------------------------\u001b[0m",
      "\u001b[0;31mAttributeError\u001b[0m                            Traceback (most recent call last)",
      "Cell \u001b[0;32mIn [10], line 4\u001b[0m\n\u001b[1;32m      1\u001b[0m model\u001b[38;5;241m.\u001b[39mfit(x,y, batch_size \u001b[38;5;241m=\u001b[39m \u001b[38;5;241m128\u001b[39m, epochs \u001b[38;5;241m=\u001b[39m \u001b[38;5;241m20\u001b[39m, verbose\u001b[38;5;241m=\u001b[39m\u001b[38;5;241m1\u001b[39m)\n\u001b[1;32m      3\u001b[0m \u001b[38;5;28mprint\u001b[39m(\u001b[38;5;124m\"\u001b[39m\u001b[38;5;124mx_test.shape:\u001b[39m\u001b[38;5;124m\"\u001b[39m,X_test\u001b[38;5;241m.\u001b[39mshape)\n\u001b[0;32m----> 4\u001b[0m x_test \u001b[38;5;241m=\u001b[39m \u001b[43mX_test\u001b[49m\u001b[38;5;241;43m.\u001b[39;49m\u001b[43mreshape\u001b[49m(X_test\u001b[38;5;241m.\u001b[39mshape[\u001b[38;5;241m0\u001b[39m],X_test\u001b[38;5;241m.\u001b[39mshape[\u001b[38;5;241m1\u001b[39m],\u001b[38;5;241m1\u001b[39m)\n",
      "File \u001b[0;32m~/.local/lib/python3.10/site-packages/pandas/core/generic.py:6293\u001b[0m, in \u001b[0;36mNDFrame.__getattr__\u001b[0;34m(self, name)\u001b[0m\n\u001b[1;32m   6286\u001b[0m \u001b[38;5;28;01mif\u001b[39;00m (\n\u001b[1;32m   6287\u001b[0m     name \u001b[38;5;129;01mnot\u001b[39;00m \u001b[38;5;129;01min\u001b[39;00m \u001b[38;5;28mself\u001b[39m\u001b[38;5;241m.\u001b[39m_internal_names_set\n\u001b[1;32m   6288\u001b[0m     \u001b[38;5;129;01mand\u001b[39;00m name \u001b[38;5;129;01mnot\u001b[39;00m \u001b[38;5;129;01min\u001b[39;00m \u001b[38;5;28mself\u001b[39m\u001b[38;5;241m.\u001b[39m_metadata\n\u001b[1;32m   6289\u001b[0m     \u001b[38;5;129;01mand\u001b[39;00m name \u001b[38;5;129;01mnot\u001b[39;00m \u001b[38;5;129;01min\u001b[39;00m \u001b[38;5;28mself\u001b[39m\u001b[38;5;241m.\u001b[39m_accessors\n\u001b[1;32m   6290\u001b[0m     \u001b[38;5;129;01mand\u001b[39;00m \u001b[38;5;28mself\u001b[39m\u001b[38;5;241m.\u001b[39m_info_axis\u001b[38;5;241m.\u001b[39m_can_hold_identifiers_and_holds_name(name)\n\u001b[1;32m   6291\u001b[0m ):\n\u001b[1;32m   6292\u001b[0m     \u001b[38;5;28;01mreturn\u001b[39;00m \u001b[38;5;28mself\u001b[39m[name]\n\u001b[0;32m-> 6293\u001b[0m \u001b[38;5;28;01mreturn\u001b[39;00m \u001b[38;5;28;43mobject\u001b[39;49m\u001b[38;5;241;43m.\u001b[39;49m\u001b[38;5;21;43m__getattribute__\u001b[39;49m\u001b[43m(\u001b[49m\u001b[38;5;28;43mself\u001b[39;49m\u001b[43m,\u001b[49m\u001b[43m \u001b[49m\u001b[43mname\u001b[49m\u001b[43m)\u001b[49m\n",
      "\u001b[0;31mAttributeError\u001b[0m: 'DataFrame' object has no attribute 'reshape'"
     ]
    }
   ],
   "source": [
    "model.fit(x,y, batch_size = 128, epochs = 20, verbose=1)\n",
    "\n",
    "print(\"x_test.shape:\",X_test.shape)\n",
    "x_test = X_test.reshape(X_test.shape[0],X_test.shape[1],1)"
   ]
  },
  {
   "cell_type": "code",
   "execution_count": 11,
   "id": "03312a67",
   "metadata": {},
   "outputs": [
    {
     "name": "stdout",
     "output_type": "stream",
     "text": [
      "2822/2822 [==============================] - 11s 4ms/step\n",
      "(90274, 1)\n",
      "(90274,)\n"
     ]
    }
   ],
   "source": [
    "y_pred_ann = model.predict(X_test)\n",
    "print(y_pred_ann.shape)\n",
    "y_pred = y_pred_ann.flatten()\n",
    "print(y_pred.shape)"
   ]
  }
 ],
 "metadata": {
  "kernelspec": {
   "display_name": "Python 3 (ipykernel)",
   "language": "python",
   "name": "python3"
  },
  "language_info": {
   "codemirror_mode": {
    "name": "ipython",
    "version": 3
   },
   "file_extension": ".py",
   "mimetype": "text/x-python",
   "name": "python",
   "nbconvert_exporter": "python",
   "pygments_lexer": "ipython3",
   "version": "3.10.12"
  }
 },
 "nbformat": 4,
 "nbformat_minor": 5
}
