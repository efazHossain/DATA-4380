{
 "cells": [
  {
   "cell_type": "code",
   "execution_count": 1,
   "id": "fd26cc29",
   "metadata": {},
   "outputs": [],
   "source": [
    "import pandas as pd\n",
    "from sklearn.model_selection import train_test_split\n",
    "from sklearn.preprocessing import StandardScaler, OneHotEncoder\n",
    "from sklearn.impute import SimpleImputer"
   ]
  },
  {
   "cell_type": "code",
   "execution_count": 2,
   "id": "aae193dc",
   "metadata": {},
   "outputs": [],
   "source": [
    "def encode_categorical(X):\n",
    "    encoder = OneHotEncoder(drop=\"first\", sparse=False)\n",
    "    X_encoded = pd.DataFrame(encoder.fit_transform(X[categorical_cols]))\n",
    "    X_encoded.columns = encoder.get_feature_names(categorical_cols)\n",
    "    X.drop(columns=categorical_cols, inplace=True)\n",
    "    X = pd.concat([X, X_encoded], axis=1)\n",
    "    return X"
   ]
  },
  {
   "cell_type": "code",
   "execution_count": 3,
   "id": "c6aa8238",
   "metadata": {},
   "outputs": [],
   "source": [
    "def handle_missing_values(data):\n",
    "    # Replace missing values with median for numerical columns\n",
    "    imputer = SimpleImputer(strategy=\"median\")\n",
    "    data[numerical_cols] = imputer.fit_transform(data[numerical_cols])\n",
    "    \n",
    "    # Replace missing values with most frequent value for categorical columns\n",
    "    data[categorical_cols] = data[categorical_cols].fillna(data[categorical_cols].mode().iloc[0])\n",
    "    \n",
    "    return data"
   ]
  },
  {
   "cell_type": "code",
   "execution_count": 4,
   "id": "a254af6a",
   "metadata": {},
   "outputs": [],
   "source": [
    "def scale_features(X):\n",
    "    scaler = StandardScaler()\n",
    "    X[numerical_cols] = scaler.fit_transform(X[numerical_cols])\n",
    "    return X"
   ]
  },
  {
   "cell_type": "code",
   "execution_count": 5,
   "id": "a22c7a64",
   "metadata": {},
   "outputs": [],
   "source": [
    "def preprocess_data(data):\n",
    "    # Handling missing values\n",
    "    data = handle_missing_values(data)\n",
    "    \n",
    "    # Splitting features and target variable\n",
    "    X = data.drop(columns=[\"target_column\"])\n",
    "    y = data[\"target_column\"]\n",
    "    \n",
    "    # Scaling numerical features\n",
    "    X = scale_features(X)\n",
    "    \n",
    "    # Handling categorical variables\n",
    "    X = encode_categorical(X)\n",
    "    \n",
    "    return X, y"
   ]
  }
 ],
 "metadata": {
  "kernelspec": {
   "display_name": "Python 3 (ipykernel)",
   "language": "python",
   "name": "python3"
  },
  "language_info": {
   "codemirror_mode": {
    "name": "ipython",
    "version": 3
   },
   "file_extension": ".py",
   "mimetype": "text/x-python",
   "name": "python",
   "nbconvert_exporter": "python",
   "pygments_lexer": "ipython3",
   "version": "3.10.12"
  }
 },
 "nbformat": 4,
 "nbformat_minor": 5
}
