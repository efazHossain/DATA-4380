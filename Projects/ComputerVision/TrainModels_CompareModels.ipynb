{
 "cells": [
  {
   "cell_type": "code",
   "execution_count": 1,
   "id": "381e9531",
   "metadata": {},
   "outputs": [
    {
     "name": "stderr",
     "output_type": "stream",
     "text": [
      "2024-04-17 10:49:52.113934: I tensorflow/tsl/cuda/cudart_stub.cc:28] Could not find cuda drivers on your machine, GPU will not be used.\n",
      "2024-04-17 10:49:52.523300: I tensorflow/tsl/cuda/cudart_stub.cc:28] Could not find cuda drivers on your machine, GPU will not be used.\n",
      "2024-04-17 10:49:52.525828: I tensorflow/core/platform/cpu_feature_guard.cc:182] This TensorFlow binary is optimized to use available CPU instructions in performance-critical operations.\n",
      "To enable the following instructions: AVX2 FMA, in other operations, rebuild TensorFlow with the appropriate compiler flags.\n",
      "2024-04-17 10:49:54.387506: W tensorflow/compiler/tf2tensorrt/utils/py_utils.cc:38] TF-TRT Warning: Could not find TensorRT\n"
     ]
    }
   ],
   "source": [
    "import tensorflow as tf\n",
    "import numpy as np\n",
    "import os\n",
    "import matplotlib.pyplot as plt\n",
    "from keras import layers\n",
    "from keras.preprocessing import image\n",
    "from tensorflow.keras.preprocessing.image import ImageDataGenerator\n",
    "from sklearn.metrics import roc_curve, auc"
   ]
  },
  {
   "cell_type": "code",
   "execution_count": 2,
   "id": "b0ac3ef9",
   "metadata": {},
   "outputs": [],
   "source": [
    "train = ImageDataGenerator(rescale=1/255)\n",
    "test = ImageDataGenerator(rescale=1/255)"
   ]
  },
  {
   "cell_type": "code",
   "execution_count": 3,
   "id": "bae0fd72",
   "metadata": {},
   "outputs": [
    {
     "name": "stdout",
     "output_type": "stream",
     "text": [
      "Found 251 images belonging to 3 classes.\n",
      "Found 66 images belonging to 3 classes.\n"
     ]
    }
   ],
   "source": [
    "train_ds = train.flow_from_directory('/mnt/c/users/efazh/DataProblems/Datasets/ComputerVision/Covid19-dataset/train',\n",
    "                                     target_size = (224,224), batch_size = 10)\n",
    "\n",
    "test_ds = test.flow_from_directory('/mnt/c/users/efazh/DataProblems/Datasets/ComputerVision/Covid19-dataset/test',\n",
    "                                  target_size = (224,224), batch_size = 10)"
   ]
  },
  {
   "cell_type": "code",
   "execution_count": 4,
   "id": "ccb026a6",
   "metadata": {},
   "outputs": [
    {
     "name": "stdout",
     "output_type": "stream",
     "text": [
      "Found 251 images belonging to 3 classes.\n",
      "Class Labels: ['Covid', 'Normal', 'Viral Pneumonia']\n"
     ]
    }
   ],
   "source": [
    "# Set up your data generator using flow_from_directory\n",
    "train_generator = train.flow_from_directory(\n",
    "    '/mnt/c/users/efazh/DataProblems/Datasets/ComputerVision/Covid19-dataset/train',\n",
    "    target_size=(224, 224),  # Adjust the target size according to EfficientNet-B0 input shape\n",
    "    batch_size=10,\n",
    "    class_mode='binary')  # Assuming you're doing multi-class classification\n",
    "\n",
    "# Grab the class labels\n",
    "train_label = list(train_generator.class_indices.keys())\n",
    "print(\"Class Labels:\", train_label)"
   ]
  },
  {
   "cell_type": "code",
   "execution_count": 5,
   "id": "07925d5a",
   "metadata": {},
   "outputs": [
    {
     "name": "stdout",
     "output_type": "stream",
     "text": [
      "Found 66 images belonging to 3 classes.\n",
      "Class Labels: ['Covid', 'Normal', 'Viral Pneumonia']\n"
     ]
    }
   ],
   "source": [
    "# Set up your data generator using flow_from_directory\n",
    "test_generator = test.flow_from_directory(\n",
    "    '/mnt/c/users/efazh/DataProblems/Datasets/ComputerVision/Covid19-dataset/test',\n",
    "    target_size=(224, 224),  # Adjust the target size according to EfficientNet-B0 input shape\n",
    "    batch_size=10,\n",
    "    class_mode='binary')  # Assuming you're doing multi-class classification\n",
    "\n",
    "# Grab the class labels\n",
    "test_label = list(test_generator.class_indices.keys())\n",
    "print(\"Class Labels:\", test_label)"
   ]
  },
  {
   "cell_type": "markdown",
   "id": "0c072e27",
   "metadata": {},
   "source": [
    "# MobileNet"
   ]
  },
  {
   "cell_type": "code",
   "execution_count": null,
   "id": "bc369d6a",
   "metadata": {},
   "outputs": [],
   "source": []
  },
  {
   "cell_type": "markdown",
   "id": "f853206b",
   "metadata": {},
   "source": [
    "# VGG19"
   ]
  },
  {
   "cell_type": "code",
   "execution_count": null,
   "id": "67194804",
   "metadata": {},
   "outputs": [],
   "source": []
  }
 ],
 "metadata": {
  "kernelspec": {
   "display_name": "Python 3 (ipykernel)",
   "language": "python",
   "name": "python3"
  },
  "language_info": {
   "codemirror_mode": {
    "name": "ipython",
    "version": 3
   },
   "file_extension": ".py",
   "mimetype": "text/x-python",
   "name": "python",
   "nbconvert_exporter": "python",
   "pygments_lexer": "ipython3",
   "version": "3.10.12"
  }
 },
 "nbformat": 4,
 "nbformat_minor": 5
}
