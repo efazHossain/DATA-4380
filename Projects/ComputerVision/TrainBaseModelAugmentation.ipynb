{
 "cells": [
  {
   "cell_type": "code",
   "execution_count": 1,
   "id": "9925ead8",
   "metadata": {},
   "outputs": [
    {
     "name": "stderr",
     "output_type": "stream",
     "text": [
      "2024-04-17 10:57:58.378124: I tensorflow/tsl/cuda/cudart_stub.cc:28] Could not find cuda drivers on your machine, GPU will not be used.\n",
      "2024-04-17 10:57:58.456811: I tensorflow/tsl/cuda/cudart_stub.cc:28] Could not find cuda drivers on your machine, GPU will not be used.\n",
      "2024-04-17 10:57:58.457793: I tensorflow/core/platform/cpu_feature_guard.cc:182] This TensorFlow binary is optimized to use available CPU instructions in performance-critical operations.\n",
      "To enable the following instructions: AVX2 FMA, in other operations, rebuild TensorFlow with the appropriate compiler flags.\n",
      "2024-04-17 10:57:59.400366: W tensorflow/compiler/tf2tensorrt/utils/py_utils.cc:38] TF-TRT Warning: Could not find TensorRT\n"
     ]
    }
   ],
   "source": [
    "import tensorflow as tf\n",
    "import numpy as np\n",
    "import os\n",
    "import matplotlib.pyplot as plt\n",
    "from keras import layers\n",
    "from keras.preprocessing import image\n",
    "from tensorflow.keras.preprocessing.image import ImageDataGenerator\n",
    "from PIL import Image"
   ]
  },
  {
   "cell_type": "code",
   "execution_count": 2,
   "id": "1902d3d7",
   "metadata": {},
   "outputs": [],
   "source": [
    "train = ImageDataGenerator(rescale=1/255)\n",
    "test = ImageDataGenerator(rescale=1/255)"
   ]
  },
  {
   "cell_type": "code",
   "execution_count": 3,
   "id": "dfe9bb1f",
   "metadata": {},
   "outputs": [
    {
     "name": "stdout",
     "output_type": "stream",
     "text": [
      "Found 251 images belonging to 3 classes.\n",
      "Found 66 images belonging to 3 classes.\n"
     ]
    }
   ],
   "source": [
    "train_ds = train.flow_from_directory('/mnt/c/users/efazh/DataProblems/Datasets/ComputerVision/Covid19-dataset/train',\n",
    "                                     target_size = (224,224), batch_size = 10)\n",
    "\n",
    "test_ds = test.flow_from_directory('/mnt/c/users/efazh/DataProblems/Datasets/ComputerVision/Covid19-dataset/test',\n",
    "                                  target_size = (224,224), batch_size = 10)"
   ]
  },
  {
   "cell_type": "code",
   "execution_count": 4,
   "id": "12d52660",
   "metadata": {},
   "outputs": [
    {
     "name": "stdout",
     "output_type": "stream",
     "text": [
      "Found 251 images belonging to 3 classes.\n"
     ]
    }
   ],
   "source": [
    "# Set up your data generator using flow_from_directory\n",
    "train_generator = train.flow_from_directory(\n",
    "    '/mnt/c/users/efazh/DataProblems/Datasets/ComputerVision/Covid19-dataset/train',\n",
    "    target_size=(224, 224),  \n",
    "    batch_size=10,\n",
    "    class_mode='binary')"
   ]
  },
  {
   "cell_type": "code",
   "execution_count": 5,
   "id": "5bd7e878",
   "metadata": {},
   "outputs": [
    {
     "name": "stdout",
     "output_type": "stream",
     "text": [
      "Found 66 images belonging to 3 classes.\n"
     ]
    }
   ],
   "source": [
    "# Set up your data generator using flow_from_directory\n",
    "test_generator = test.flow_from_directory(\n",
    "    '/mnt/c/users/efazh/DataProblems/Datasets/ComputerVision/Covid19-dataset/test',\n",
    "    target_size=(224, 224),  \n",
    "    batch_size=10,\n",
    "    class_mode='binary')"
   ]
  },
  {
   "cell_type": "code",
   "execution_count": 6,
   "id": "ce509976",
   "metadata": {},
   "outputs": [
    {
     "name": "stdout",
     "output_type": "stream",
     "text": [
      "Class Labels: ['Covid', 'Normal', 'Viral Pneumonia']\n"
     ]
    }
   ],
   "source": [
    "class_names = list(train_generator.class_indices.keys())\n",
    "print(\"Class Labels:\", class_names)"
   ]
  },
  {
   "cell_type": "markdown",
   "id": "71705c1e",
   "metadata": {},
   "source": [
    "# Data Augmentation"
   ]
  },
  {
   "cell_type": "code",
   "execution_count": 7,
   "id": "bc3d2c5d",
   "metadata": {},
   "outputs": [],
   "source": [
    "from tensorflow.keras.layers import RandomFlip, RandomZoom, RandomRotation, RandomHeight, RandomWidth, Dense, Rescaling\n",
    "from tensorflow.keras import Sequential\n",
    "from tensorflow.keras.activations import softmax\n",
    "from tensorflow.keras.losses import CategoricalCrossentropy\n",
    "from tensorflow.keras.optimizers import Adam"
   ]
  },
  {
   "cell_type": "code",
   "execution_count": 8,
   "id": "1be90305",
   "metadata": {},
   "outputs": [
    {
     "name": "stderr",
     "output_type": "stream",
     "text": [
      "2024-04-17 10:58:01.750628: I tensorflow/compiler/xla/stream_executor/cuda/cuda_gpu_executor.cc:982] could not open file to read NUMA node: /sys/bus/pci/devices/0000:01:00.0/numa_node\n",
      "Your kernel may have been built without NUMA support.\n",
      "2024-04-17 10:58:01.751335: W tensorflow/core/common_runtime/gpu/gpu_device.cc:1956] Cannot dlopen some GPU libraries. Please make sure the missing libraries mentioned above are installed properly if you would like to use GPU. Follow the guide at https://www.tensorflow.org/install/gpu for how to download and setup the required libraries for your platform.\n",
      "Skipping registering GPU devices...\n"
     ]
    },
    {
     "data": {
      "text/plain": [
       "<keras.engine.sequential.Sequential at 0x7fb0307b80d0>"
      ]
     },
     "execution_count": 8,
     "metadata": {},
     "output_type": "execute_result"
    }
   ],
   "source": [
    "augmentation_layer = Sequential([\n",
    "    RandomFlip(\"horizontal\", seed=42),\n",
    "    RandomRotation(0.2, seed=42),\n",
    "    RandomZoom(0.2, seed=42),\n",
    "    RandomHeight(0.2, seed=42),\n",
    "    RandomWidth(0.2, seed=42),\n",
    "    Rescaling(1/255.)\n",
    "], name=\"augmentation_layer\")\n",
    "\n",
    "augmentation_layer"
   ]
  },
  {
   "cell_type": "markdown",
   "id": "842e6f89",
   "metadata": {},
   "source": [
    "# Creating Augmented Model"
   ]
  },
  {
   "cell_type": "code",
   "execution_count": null,
   "id": "83c41c1e",
   "metadata": {},
   "outputs": [],
   "source": []
  },
  {
   "cell_type": "markdown",
   "id": "a488ee13",
   "metadata": {},
   "source": [
    "# Fitting Augmented Model"
   ]
  },
  {
   "cell_type": "code",
   "execution_count": null,
   "id": "bdb0e8b1",
   "metadata": {},
   "outputs": [],
   "source": []
  },
  {
   "cell_type": "markdown",
   "id": "d0c55da2",
   "metadata": {},
   "source": [
    "# Evaluating Model"
   ]
  },
  {
   "cell_type": "code",
   "execution_count": null,
   "id": "cf24aaad",
   "metadata": {},
   "outputs": [],
   "source": []
  },
  {
   "cell_type": "markdown",
   "id": "311d8158",
   "metadata": {},
   "source": [
    "# Plotting Loss Curves"
   ]
  },
  {
   "cell_type": "code",
   "execution_count": null,
   "id": "77688045",
   "metadata": {},
   "outputs": [],
   "source": []
  }
 ],
 "metadata": {
  "kernelspec": {
   "display_name": "Python 3 (ipykernel)",
   "language": "python",
   "name": "python3"
  },
  "language_info": {
   "codemirror_mode": {
    "name": "ipython",
    "version": 3
   },
   "file_extension": ".py",
   "mimetype": "text/x-python",
   "name": "python",
   "nbconvert_exporter": "python",
   "pygments_lexer": "ipython3",
   "version": "3.10.12"
  }
 },
 "nbformat": 4,
 "nbformat_minor": 5
}
