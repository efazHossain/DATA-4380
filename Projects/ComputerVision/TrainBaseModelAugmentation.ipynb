{
 "cells": [
  {
   "cell_type": "markdown",
   "id": "772bbf20",
   "metadata": {},
   "source": [
    "# Import Statements"
   ]
  },
  {
   "cell_type": "code",
   "execution_count": 1,
   "id": "9925ead8",
   "metadata": {},
   "outputs": [
    {
     "name": "stderr",
     "output_type": "stream",
     "text": [
      "2024-04-22 08:49:55.910507: I tensorflow/tsl/cuda/cudart_stub.cc:28] Could not find cuda drivers on your machine, GPU will not be used.\n",
      "2024-04-22 08:49:56.434059: I tensorflow/tsl/cuda/cudart_stub.cc:28] Could not find cuda drivers on your machine, GPU will not be used.\n",
      "2024-04-22 08:49:56.436897: I tensorflow/core/platform/cpu_feature_guard.cc:182] This TensorFlow binary is optimized to use available CPU instructions in performance-critical operations.\n",
      "To enable the following instructions: AVX2 FMA, in other operations, rebuild TensorFlow with the appropriate compiler flags.\n",
      "2024-04-22 08:49:58.405501: W tensorflow/compiler/tf2tensorrt/utils/py_utils.cc:38] TF-TRT Warning: Could not find TensorRT\n"
     ]
    }
   ],
   "source": [
    "import tensorflow as tf\n",
    "import numpy as np\n",
    "import os\n",
    "import matplotlib.pyplot as plt\n",
    "import keras\n",
    "from keras import layers\n",
    "from keras.preprocessing import image\n",
    "from tensorflow import data as tf_data\n",
    "from tensorflow.keras.preprocessing.image import ImageDataGenerator"
   ]
  },
  {
   "cell_type": "markdown",
   "id": "6da49677",
   "metadata": {},
   "source": [
    "# Image Directory Setup"
   ]
  },
  {
   "cell_type": "code",
   "execution_count": 2,
   "id": "573cdc67",
   "metadata": {},
   "outputs": [],
   "source": [
    "image_size = (224,224)\n",
    "batch_size = 10"
   ]
  },
  {
   "cell_type": "code",
   "execution_count": 1,
   "id": "24e0b32d",
   "metadata": {},
   "outputs": [
    {
     "name": "stderr",
     "output_type": "stream",
     "text": [
      "2024-04-25 19:33:14.852817: I tensorflow/tsl/cuda/cudart_stub.cc:28] Could not find cuda drivers on your machine, GPU will not be used.\n",
      "2024-04-25 19:33:14.977354: I tensorflow/tsl/cuda/cudart_stub.cc:28] Could not find cuda drivers on your machine, GPU will not be used.\n",
      "2024-04-25 19:33:14.986215: I tensorflow/core/platform/cpu_feature_guard.cc:182] This TensorFlow binary is optimized to use available CPU instructions in performance-critical operations.\n",
      "To enable the following instructions: AVX2 FMA, in other operations, rebuild TensorFlow with the appropriate compiler flags.\n",
      "2024-04-25 19:33:17.338372: W tensorflow/compiler/tf2tensorrt/utils/py_utils.cc:38] TF-TRT Warning: Could not find TensorRT\n"
     ]
    },
    {
     "name": "stdout",
     "output_type": "stream",
     "text": [
      "Found 242 files belonging to 3 classes.\n",
      "Using 194 files for training.\n"
     ]
    },
    {
     "name": "stderr",
     "output_type": "stream",
     "text": [
      "2024-04-25 19:33:19.424389: I tensorflow/compiler/xla/stream_executor/cuda/cuda_gpu_executor.cc:982] could not open file to read NUMA node: /sys/bus/pci/devices/0000:01:00.0/numa_node\n",
      "Your kernel may have been built without NUMA support.\n",
      "2024-04-25 19:33:19.424857: W tensorflow/core/common_runtime/gpu/gpu_device.cc:1956] Cannot dlopen some GPU libraries. Please make sure the missing libraries mentioned above are installed properly if you would like to use GPU. Follow the guide at https://www.tensorflow.org/install/gpu for how to download and setup the required libraries for your platform.\n",
      "Skipping registering GPU devices...\n"
     ]
    },
    {
     "name": "stdout",
     "output_type": "stream",
     "text": [
      "Found 242 files belonging to 3 classes.\n",
      "Using 48 files for validation.\n",
      "Found 63 files belonging to 3 classes.\n"
     ]
    }
   ],
   "source": [
    "import keras\n",
    "from keras.preprocessing import image\n",
    "\n",
    "# Assuming image_size and batch_size are defined somewhere in your code\n",
    "image_size = (224, 224)\n",
    "batch_size = 32\n",
    "\n",
    "train_dir = '/mnt/c/users/efazh/DataProblems/Datasets/ComputerVision/Covid19-dataset/train'\n",
    "test_dir = '/mnt/c/users/efazh/DataProblems/Datasets/ComputerVision/Covid19-dataset/test'\n",
    "\n",
    "train_ds = keras.utils.image_dataset_from_directory(\n",
    "    train_dir,\n",
    "    validation_split=0.2,\n",
    "    subset=\"training\",  # Subset should be \"training\" for the training dataset\n",
    "    seed=1337,\n",
    "    image_size=image_size,\n",
    "    batch_size=batch_size,\n",
    ")\n",
    "\n",
    "val_ds = keras.utils.image_dataset_from_directory(\n",
    "    train_dir,\n",
    "    validation_split=0.2,\n",
    "    subset=\"validation\",  # Subset should be \"validation\" for the validation dataset\n",
    "    seed=1337,\n",
    "    image_size=image_size,\n",
    "    batch_size=batch_size,\n",
    ")\n",
    "\n",
    "test_ds = keras.utils.image_dataset_from_directory(\n",
    "    test_dir,\n",
    "    seed=1337,\n",
    "    image_size=image_size,\n",
    "    batch_size=batch_size,\n",
    ")"
   ]
  },
  {
   "cell_type": "code",
   "execution_count": 4,
   "id": "204dc346",
   "metadata": {},
   "outputs": [
    {
     "data": {
      "text/plain": [
       "{'Covid': 0, 'Normal': 1, 'Viral Pneumonia': 2}"
      ]
     },
     "execution_count": 4,
     "metadata": {},
     "output_type": "execute_result"
    }
   ],
   "source": [
    "train_ds.class_indices"
   ]
  },
  {
   "cell_type": "markdown",
   "id": "71705c1e",
   "metadata": {},
   "source": [
    "# Model Augmentation"
   ]
  },
  {
   "cell_type": "code",
   "execution_count": 5,
   "id": "8720d8a3",
   "metadata": {},
   "outputs": [
    {
     "name": "stdout",
     "output_type": "stream",
     "text": [
      "Found 201 images belonging to 3 classes.\n",
      "Found 50 images belonging to 3 classes.\n"
     ]
    }
   ],
   "source": [
    "from keras.preprocessing.image import ImageDataGenerator\n",
    "from keras.layers import RandomFlip, RandomRotation, RandomZoom\n",
    "\n",
    "# Define augmentation layers\n",
    "augmentation_layers = [\n",
    "    RandomFlip(\"horizontal\"),\n",
    "    RandomRotation(0.2),\n",
    "    RandomZoom(0.2)\n",
    "]\n",
    "\n",
    "# Define ImageDataGenerator with augmentation\n",
    "train_datagen = ImageDataGenerator(\n",
    "    rescale=1./255,\n",
    "    preprocessing_function=augmentation_layers,\n",
    "    validation_split=0.2\n",
    ")\n",
    "\n",
    "# Load training data with validation split and augmentation\n",
    "train_generator = train_datagen.flow_from_directory(\n",
    "    '/mnt/c/users/efazh/DataProblems/Datasets/ComputerVision/Covid19-dataset/train',\n",
    "    target_size=image_size,\n",
    "    batch_size=batch_size,\n",
    "    class_mode='categorical',\n",
    "    subset='training'\n",
    ")\n",
    "\n",
    "# Load validation data\n",
    "val_generator = train_datagen.flow_from_directory(\n",
    "    '/mnt/c/users/efazh/DataProblems/Datasets/ComputerVision/Covid19-dataset/train',\n",
    "    target_size=image_size,\n",
    "    batch_size=batch_size,\n",
    "    class_mode='categorical',\n",
    "    subset='validation'\n",
    ")"
   ]
  },
  {
   "cell_type": "code",
   "execution_count": null,
   "id": "8c2873e0",
   "metadata": {},
   "outputs": [],
   "source": [
    "# Fetch two images from the augmented generator\n",
    "images, labels = next(train_generator)\n",
    "\n",
    "# Plot the two images\n",
    "fig, axes = plt.subplots(1, 2, figsize=(10, 5))\n",
    "\n",
    "for i in range(2):\n",
    "    axes[i].imshow(images[i])\n",
    "    axes[i].axis('off')\n",
    "    axes[i].set_title(f'Label: {labels[i]}')\n",
    "\n",
    "plt.show()"
   ]
  },
  {
   "cell_type": "markdown",
   "id": "842e6f89",
   "metadata": {},
   "source": [
    "## Creating Augmented Model (Simple CNN)"
   ]
  },
  {
   "cell_type": "code",
   "execution_count": 6,
   "id": "5a3e62a2",
   "metadata": {},
   "outputs": [
    {
     "name": "stderr",
     "output_type": "stream",
     "text": [
      "2024-04-22 08:50:25.794099: I tensorflow/compiler/xla/stream_executor/cuda/cuda_gpu_executor.cc:982] could not open file to read NUMA node: /sys/bus/pci/devices/0000:01:00.0/numa_node\n",
      "Your kernel may have been built without NUMA support.\n",
      "2024-04-22 08:50:25.795253: W tensorflow/core/common_runtime/gpu/gpu_device.cc:1956] Cannot dlopen some GPU libraries. Please make sure the missing libraries mentioned above are installed properly if you would like to use GPU. Follow the guide at https://www.tensorflow.org/install/gpu for how to download and setup the required libraries for your platform.\n",
      "Skipping registering GPU devices...\n"
     ]
    },
    {
     "name": "stdout",
     "output_type": "stream",
     "text": [
      "Model: \"model\"\n",
      "_________________________________________________________________\n",
      " Layer (type)                Output Shape              Param #   \n",
      "=================================================================\n",
      " input_1 (InputLayer)        [(None, 224, 224, 3)]     0         \n",
      "                                                                 \n",
      " conv2d (Conv2D)             (None, 222, 222, 32)      896       \n",
      "                                                                 \n",
      " max_pooling2d (MaxPooling2D  (None, 111, 111, 32)     0         \n",
      " )                                                               \n",
      "                                                                 \n",
      " conv2d_1 (Conv2D)           (None, 109, 109, 64)      18496     \n",
      "                                                                 \n",
      " max_pooling2d_1 (MaxPooling  (None, 54, 54, 64)       0         \n",
      " 2D)                                                             \n",
      "                                                                 \n",
      " conv2d_2 (Conv2D)           (None, 52, 52, 128)       73856     \n",
      "                                                                 \n",
      " max_pooling2d_2 (MaxPooling  (None, 26, 26, 128)      0         \n",
      " 2D)                                                             \n",
      "                                                                 \n",
      " flatten (Flatten)           (None, 86528)             0         \n",
      "                                                                 \n",
      " dense (Dense)               (None, 128)               11075712  \n",
      "                                                                 \n",
      " dropout (Dropout)           (None, 128)               0         \n",
      "                                                                 \n",
      " dense_1 (Dense)             (None, 3)                 387       \n",
      "                                                                 \n",
      "=================================================================\n",
      "Total params: 11,169,347\n",
      "Trainable params: 11,169,347\n",
      "Non-trainable params: 0\n",
      "_________________________________________________________________\n"
     ]
    }
   ],
   "source": [
    "from keras.layers import Input, Conv2D, MaxPooling2D, Flatten, Dense, Dropout\n",
    "from keras.models import Model\n",
    "\n",
    "# Define input shape\n",
    "input_shape = (224, 224, 3)\n",
    "\n",
    "# Define input layer\n",
    "inputs = Input(shape=input_shape)\n",
    "\n",
    "# Define augmentation layers (a bit buggy, will fix later 4/17)\n",
    "'''\n",
    "x = RandomFlip(\"horizontal\", seed=42)(inputs)\n",
    "x = RandomRotation(0.2, seed=42)(x)\n",
    "x = RandomZoom(0.2, seed=42)(x)\n",
    "x = RandomHeight(0.2, seed=42)(x)\n",
    "x = RandomWidth(0.2, seed=42)(x)\n",
    "x = Rescaling(1/255.)(x)\n",
    "'''\n",
    "# Convolutional layers\n",
    "x = Conv2D(32, (3, 3), activation='relu')(inputs)\n",
    "x = MaxPooling2D((2, 2))(x)\n",
    "x = Conv2D(64, (3, 3), activation='relu')(x)\n",
    "x = MaxPooling2D((2, 2))(x)\n",
    "x = Conv2D(128, (3, 3), activation='relu')(x)\n",
    "x = MaxPooling2D((2, 2))(x)\n",
    "\n",
    "# Flatten the output of the convolutional layers\n",
    "x = Flatten()(x)\n",
    "\n",
    "# Fully connected layers\n",
    "x = Dense(128, activation='relu')(x)\n",
    "x = Dropout(0.5)(x)  # Dropout for regularization\n",
    "outputs = Dense(3, activation='softmax')(x)  # Output layer with softmax activation for 3 classes\n",
    "\n",
    "# Define the model\n",
    "model = Model(inputs, outputs)\n",
    "\n",
    "# Compile the model\n",
    "model.compile(optimizer='adam',\n",
    "              loss='categorical_crossentropy',\n",
    "              metrics=['accuracy'])\n",
    "\n",
    "# Print a summary of the model architecture\n",
    "model.summary()"
   ]
  },
  {
   "cell_type": "markdown",
   "id": "d07c6512",
   "metadata": {},
   "source": [
    "## Fitting Augmented Model"
   ]
  },
  {
   "cell_type": "code",
   "execution_count": 8,
   "id": "7c65256a",
   "metadata": {},
   "outputs": [
    {
     "name": "stdout",
     "output_type": "stream",
     "text": [
      "Epoch 1/13\n"
     ]
    },
    {
     "name": "stderr",
     "output_type": "stream",
     "text": [
      "2024-04-17 13:24:17.194558: I tensorflow/core/common_runtime/executor.cc:1197] [/device:CPU:0] (DEBUG INFO) Executor start aborting (this does not indicate an error and you can ignore this message): INVALID_ARGUMENT: You must feed a value for placeholder tensor 'Placeholder/_0' with dtype int32\n",
      "\t [[{{node Placeholder/_0}}]]\n"
     ]
    },
    {
     "name": "stdout",
     "output_type": "stream",
     "text": [
      "8/8 [==============================] - ETA: 0s - loss: 1.5971 - accuracy: 0.3875"
     ]
    },
    {
     "name": "stderr",
     "output_type": "stream",
     "text": [
      "2024-04-17 13:24:24.266855: I tensorflow/core/common_runtime/executor.cc:1197] [/device:CPU:0] (DEBUG INFO) Executor start aborting (this does not indicate an error and you can ignore this message): INVALID_ARGUMENT: You must feed a value for placeholder tensor 'Placeholder/_0' with dtype int32\n",
      "\t [[{{node Placeholder/_0}}]]\n"
     ]
    },
    {
     "name": "stdout",
     "output_type": "stream",
     "text": [
      "8/8 [==============================] - 9s 1s/step - loss: 1.5971 - accuracy: 0.3875 - val_loss: 1.0806 - val_accuracy: 0.4545\n",
      "Epoch 2/13\n",
      "8/8 [==============================] - 7s 872ms/step - loss: 1.0001 - accuracy: 0.5634 - val_loss: 0.8989 - val_accuracy: 0.6212\n",
      "Epoch 3/13\n",
      "8/8 [==============================] - 8s 963ms/step - loss: 0.7061 - accuracy: 0.7750 - val_loss: 0.5840 - val_accuracy: 0.7121\n",
      "Epoch 4/13\n",
      "8/8 [==============================] - 8s 960ms/step - loss: 0.4198 - accuracy: 0.8875 - val_loss: 0.6154 - val_accuracy: 0.6515\n",
      "Epoch 5/13\n",
      "8/8 [==============================] - 8s 947ms/step - loss: 0.4249 - accuracy: 0.8375 - val_loss: 0.5416 - val_accuracy: 0.7727\n",
      "Epoch 6/13\n",
      "8/8 [==============================] - 7s 895ms/step - loss: 0.3474 - accuracy: 0.8732 - val_loss: 0.6016 - val_accuracy: 0.7727\n",
      "Epoch 7/13\n",
      "8/8 [==============================] - 7s 917ms/step - loss: 0.4379 - accuracy: 0.8250 - val_loss: 0.4581 - val_accuracy: 0.7424\n",
      "Epoch 8/13\n",
      "8/8 [==============================] - 8s 953ms/step - loss: 0.3325 - accuracy: 0.8625 - val_loss: 0.4131 - val_accuracy: 0.8333\n",
      "Epoch 9/13\n",
      "8/8 [==============================] - 7s 934ms/step - loss: 0.4030 - accuracy: 0.8500 - val_loss: 0.3279 - val_accuracy: 0.8788\n",
      "Epoch 10/13\n",
      "8/8 [==============================] - 7s 900ms/step - loss: 0.2363 - accuracy: 0.9155 - val_loss: 0.3566 - val_accuracy: 0.8030\n",
      "Epoch 11/13\n",
      "8/8 [==============================] - 7s 987ms/step - loss: 0.1619 - accuracy: 0.9437 - val_loss: 0.2610 - val_accuracy: 0.8939\n",
      "Epoch 12/13\n",
      "8/8 [==============================] - 7s 967ms/step - loss: 0.2993 - accuracy: 0.9437 - val_loss: 1.0063 - val_accuracy: 0.6667\n",
      "Epoch 13/13\n",
      "8/8 [==============================] - 7s 913ms/step - loss: 0.1828 - accuracy: 0.9500 - val_loss: 0.3616 - val_accuracy: 0.8182\n"
     ]
    }
   ],
   "source": [
    "# Define number of epochs\n",
    "epochs = 13\n",
    "\n",
    "# Fit the model to the training data\n",
    "history = model.fit(\n",
    "    train_ds,\n",
    "    steps_per_epoch = 8,\n",
    "    epochs=epochs,\n",
    "    validation_data=val_ds\n",
    ")"
   ]
  },
  {
   "cell_type": "markdown",
   "id": "311d8158",
   "metadata": {},
   "source": [
    "# Plotting Loss Curves"
   ]
  },
  {
   "cell_type": "code",
   "execution_count": 9,
   "id": "cf24aaad",
   "metadata": {},
   "outputs": [
    {
     "data": {
      "text/plain": [
       "<matplotlib.legend.Legend at 0x7efd34524250>"
      ]
     },
     "execution_count": 9,
     "metadata": {},
     "output_type": "execute_result"
    },
    {
     "data": {
      "image/png": "[encoded data removed]",
      "text/plain": [
       "<Figure size 640x480 with 1 Axes>"
      ]
     },
     "metadata": {},
     "output_type": "display_data"
    }
   ],
   "source": [
    "plt.plot(range(len(history.history[\"loss\"])),history.history[\"loss\"],label=\"Training Loss\")\n",
    "plt.plot(range(len(history.history[\"val_loss\"])),history.history[\"val_loss\"],label=\"Validation Loss\")\n",
    "plt.legend()"
   ]
  },
  {
   "cell_type": "code",
   "execution_count": 10,
   "id": "77688045",
   "metadata": {},
   "outputs": [
    {
     "data": {
      "text/plain": [
       "<matplotlib.legend.Legend at 0x7efc008dffd0>"
      ]
     },
     "execution_count": 10,
     "metadata": {},
     "output_type": "execute_result"
    },
    {
     "data": {
      "image/png": "[encoded data removed]",
      "text/plain": [
       "<Figure size 640x480 with 1 Axes>"
      ]
     },
     "metadata": {},
     "output_type": "display_data"
    }
   ],
   "source": [
    "plt.plot(range(len(history.history[\"accuracy\"])),history.history[\"accuracy\"],label=\"Training Loss\")\n",
    "plt.plot(range(len(history.history[\"val_accuracy\"])),history.history[\"val_accuracy\"],label=\"Validation Loss\")\n",
    "plt.legend()"
   ]
  }
 ],
 "metadata": {
  "kernelspec": {
   "display_name": "Python 3 (ipykernel)",
   "language": "python",
   "name": "python3"
  },
  "language_info": {
   "codemirror_mode": {
    "name": "ipython",
    "version": 3
   },
   "file_extension": ".py",
   "mimetype": "text/x-python",
   "name": "python",
   "nbconvert_exporter": "python",
   "pygments_lexer": "ipython3",
   "version": "3.10.12"
  }
 },
 "nbformat": 4,
 "nbformat_minor": 5
}
