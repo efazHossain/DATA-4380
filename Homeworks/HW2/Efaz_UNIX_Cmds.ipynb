{
 "cells": [
  {
   "cell_type": "markdown",
   "id": "b68269b7",
   "metadata": {},
   "source": [
    "# Heart Disease and Diabetes Stuff"
   ]
  },
  {
   "cell_type": "code",
   "execution_count": null,
   "id": "5f6b81a7",
   "metadata": {},
   "outputs": [],
   "source": [
    "# Number 2\n",
    "head diabetes_prediction_dataset.csv > diabetes_head.csv \n",
    "tail diabetes_prediction_dataset.csv > diabetes_tail.csv\n",
    "sed -n -e lp -e 1,10p diabetes_prediction_dataset.csv > heart_10.csv\n",
    "\n",
    "# Number 3\n",
    "head Heart_Disease_Prediction.csv\n",
    "grep 'Presence\\|Absence' Heart_Disease_Prediction.csv > Pres_Abs.csv"
   ]
  },
  {
   "cell_type": "markdown",
   "id": "6e300af6",
   "metadata": {},
   "source": [
    "# Car Prices"
   ]
  },
  {
   "cell_type": "code",
   "execution_count": null,
   "id": "0108c81c",
   "metadata": {},
   "outputs": [],
   "source": [
    "# Number 4\n",
    "grep No car_web_scraped_dataset.csv | wc car_web_scraped_dataset.csv > fraction.txt"
   ]
  },
  {
   "cell_type": "markdown",
   "id": "052f228e",
   "metadata": {},
   "source": [
    "# Housing Prices"
   ]
  },
  {
   "cell_type": "code",
   "execution_count": null,
   "id": "8159dd90",
   "metadata": {},
   "outputs": [],
   "source": [
    "# Number 5\n",
    "sed -i 's/yes/1/g'; 's/no/0/g'; 's/unfurnished/0/g'; 's/semi-furnished/2/g'; 's/furnished/1/g' > housing_new.csv"
   ]
  },
  {
   "cell_type": "markdown",
   "id": "5ff87e85",
   "metadata": {},
   "source": [
    "# Mall Customers"
   ]
  },
  {
   "cell_type": "code",
   "execution_count": null,
   "id": "359b6d8e",
   "metadata": {},
   "outputs": [],
   "source": [
    "# Number 6\n",
    "cut -f1 Mall_Customers.csv > Mall_Customers_New.csv"
   ]
  },
  {
   "cell_type": "markdown",
   "id": "a3ba5cb6",
   "metadata": {},
   "source": [
    "# Cancer Patients"
   ]
  },
  {
   "cell_type": "code",
   "execution_count": null,
   "id": "ff3325a0",
   "metadata": {},
   "outputs": [],
   "source": [
    "# Number 7\n",
    "cut \n",
    "# Number 8\n",
    "sort -k4 cancer_patient_data.csv > cancer_age_sort.csv"
   ]
  }
 ],
 "metadata": {
  "kernelspec": {
   "display_name": "Python 3 (ipykernel)",
   "language": "python",
   "name": "python3"
  },
  "language_info": {
   "codemirror_mode": {
    "name": "ipython",
    "version": 3
   },
   "file_extension": ".py",
   "mimetype": "text/x-python",
   "name": "python",
   "nbconvert_exporter": "python",
   "pygments_lexer": "ipython3",
   "version": "3.10.12"
  }
 },
 "nbformat": 4,
 "nbformat_minor": 5
}
