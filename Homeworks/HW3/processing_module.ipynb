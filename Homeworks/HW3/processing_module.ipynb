{
 "cells": [
  {
   "cell_type": "code",
   "execution_count": 7,
   "id": "6b5a0528",
   "metadata": {},
   "outputs": [],
   "source": [
    "from datetime import datetime\n",
    "import numpy as np\n",
    "import numpy as numpy\n",
    "import pandas as pd\n",
    "import pylab\n",
    "import calendar\n",
    "from scipy import stats\n",
    "import seaborn as sns\n",
    "from sklearn import model_selection\n",
    "from scipy.stats import kendalltau\n",
    "import warnings\n",
    "import matplotlib.pyplot as plt\n",
    "import pandas\n",
    "from sklearn.preprocessing import StandardScaler\n",
    "from sklearn.pipeline import Pipeline\n",
    "from sklearn.preprocessing import LabelEncoder\n",
    "\n",
    "def label_encode(df1,df2):\n",
    "    for c in df2.columns: # Converts all categorical values to numerical values via Label Encoding\n",
    "        df2[c]=df2[c].fillna(-1)\n",
    "        if df2[c].dtype == 'object':\n",
    "            lbl = LabelEncoder()\n",
    "            lbl.fit(list(df2[c].values))\n",
    "            df2[c] = lbl.transform(list(df2[c].values))\n",
    "    train_df = df1.merge(df2, how='left', on='parcelid') #Merged the old dataset with the converted properties set\n",
    "    return train_df\n",
    "\n",
    "#### Preprocessing\n",
    "def preprocess(train1,test1):\n",
    "    # StandardScaler\n",
    "    sc = StandardScaler()\n",
    "    train1 = sc.fit_transform(train1)\n",
    "    test1 = sc.transform(test1)"
   ]
  }
 ],
 "metadata": {
  "kernelspec": {
   "display_name": "Python 3 (ipykernel)",
   "language": "python",
   "name": "python3"
  },
  "language_info": {
   "codemirror_mode": {
    "name": "ipython",
    "version": 3
   },
   "file_extension": ".py",
   "mimetype": "text/x-python",
   "name": "python",
   "nbconvert_exporter": "python",
   "pygments_lexer": "ipython3",
   "version": "3.10.12"
  }
 },
 "nbformat": 4,
 "nbformat_minor": 5
}
